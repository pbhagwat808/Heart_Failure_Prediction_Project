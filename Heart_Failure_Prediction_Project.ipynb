{
 "cells": [
  {
   "cell_type": "markdown",
   "id": "60e200f1",
   "metadata": {},
   "source": [
    "# Heart_Failure_Prediction_Project"
   ]
  },
  {
   "cell_type": "markdown",
   "id": "fea53a42",
   "metadata": {},
   "source": [
    "### load the data"
   ]
  },
  {
   "cell_type": "markdown",
   "id": "23de3ec1",
   "metadata": {},
   "source": [
    "Attribute Information\n",
    "Age: age of the patient [years]\n",
    "Sex: sex of the patient [M: Male, F: Female]\n",
    "ChestPainType: chest pain type [TA: Typical Angina, ATA: Atypical Angina, NAP: Non-Anginal Pain, ASY: Asymptomatic]\n",
    "RestingBP: resting blood pressure [mm Hg]\n",
    "Cholesterol: serum cholesterol [mm/dl]\n",
    "FastingBS: fasting blood sugar [1: if FastingBS > 120 mg/dl, 0: otherwise]\n",
    "RestingECG: resting electrocardiogram results [Normal: Normal, ST: having ST-T wave abnormality (T wave inversions and/or ST elevation or depression of > 0.05 mV), LVH: showing probable or definite left ventricular hypertrophy by Estes' criteria]\n",
    "MaxHR: maximum heart rate achieved [Numeric value between 60 and 202]\n",
    "ExerciseAngina: exercise-induced angina [Y: Yes, N: No]\n",
    "Oldpeak: oldpeak = ST [Numeric value measured in depression]\n",
    "ST_Slope: the slope of the peak exercise ST segment [Up: upsloping, Flat: flat, Down: downsloping]\n",
    "HeartDisease: output class [1: heart disease, 0: Normal]"
   ]
  },
  {
   "cell_type": "code",
   "execution_count": 1,
   "id": "b22221e9",
   "metadata": {},
   "outputs": [],
   "source": [
    "import pandas as pd\n",
    "import numpy as np"
   ]
  },
  {
   "cell_type": "code",
   "execution_count": 2,
   "id": "af1f1539",
   "metadata": {},
   "outputs": [],
   "source": [
    "df=pd.read_csv(r'C:\\Users\\hp\\Data Science\\ML Practice\\Heart_Failure_Prediction_Project\\heart.csv')"
   ]
  },
  {
   "cell_type": "code",
   "execution_count": 3,
   "id": "887366bb",
   "metadata": {},
   "outputs": [
    {
     "data": {
      "text/plain": [
       "(918, 12)"
      ]
     },
     "execution_count": 3,
     "metadata": {},
     "output_type": "execute_result"
    }
   ],
   "source": [
    "df.shape"
   ]
  },
  {
   "cell_type": "code",
   "execution_count": 4,
   "id": "c6a35294",
   "metadata": {},
   "outputs": [
    {
     "data": {
      "text/html": [
       "<div>\n",
       "<style scoped>\n",
       "    .dataframe tbody tr th:only-of-type {\n",
       "        vertical-align: middle;\n",
       "    }\n",
       "\n",
       "    .dataframe tbody tr th {\n",
       "        vertical-align: top;\n",
       "    }\n",
       "\n",
       "    .dataframe thead th {\n",
       "        text-align: right;\n",
       "    }\n",
       "</style>\n",
       "<table border=\"1\" class=\"dataframe\">\n",
       "  <thead>\n",
       "    <tr style=\"text-align: right;\">\n",
       "      <th></th>\n",
       "      <th>Age</th>\n",
       "      <th>RestingBP</th>\n",
       "      <th>Cholesterol</th>\n",
       "      <th>FastingBS</th>\n",
       "      <th>MaxHR</th>\n",
       "      <th>Oldpeak</th>\n",
       "      <th>HeartDisease</th>\n",
       "    </tr>\n",
       "  </thead>\n",
       "  <tbody>\n",
       "    <tr>\n",
       "      <th>count</th>\n",
       "      <td>918.000000</td>\n",
       "      <td>918.000000</td>\n",
       "      <td>918.000000</td>\n",
       "      <td>918.000000</td>\n",
       "      <td>918.000000</td>\n",
       "      <td>918.000000</td>\n",
       "      <td>918.000000</td>\n",
       "    </tr>\n",
       "    <tr>\n",
       "      <th>mean</th>\n",
       "      <td>53.510893</td>\n",
       "      <td>132.396514</td>\n",
       "      <td>198.799564</td>\n",
       "      <td>0.233115</td>\n",
       "      <td>136.809368</td>\n",
       "      <td>0.887364</td>\n",
       "      <td>0.553377</td>\n",
       "    </tr>\n",
       "    <tr>\n",
       "      <th>std</th>\n",
       "      <td>9.432617</td>\n",
       "      <td>18.514154</td>\n",
       "      <td>109.384145</td>\n",
       "      <td>0.423046</td>\n",
       "      <td>25.460334</td>\n",
       "      <td>1.066570</td>\n",
       "      <td>0.497414</td>\n",
       "    </tr>\n",
       "    <tr>\n",
       "      <th>min</th>\n",
       "      <td>28.000000</td>\n",
       "      <td>0.000000</td>\n",
       "      <td>0.000000</td>\n",
       "      <td>0.000000</td>\n",
       "      <td>60.000000</td>\n",
       "      <td>-2.600000</td>\n",
       "      <td>0.000000</td>\n",
       "    </tr>\n",
       "    <tr>\n",
       "      <th>25%</th>\n",
       "      <td>47.000000</td>\n",
       "      <td>120.000000</td>\n",
       "      <td>173.250000</td>\n",
       "      <td>0.000000</td>\n",
       "      <td>120.000000</td>\n",
       "      <td>0.000000</td>\n",
       "      <td>0.000000</td>\n",
       "    </tr>\n",
       "    <tr>\n",
       "      <th>50%</th>\n",
       "      <td>54.000000</td>\n",
       "      <td>130.000000</td>\n",
       "      <td>223.000000</td>\n",
       "      <td>0.000000</td>\n",
       "      <td>138.000000</td>\n",
       "      <td>0.600000</td>\n",
       "      <td>1.000000</td>\n",
       "    </tr>\n",
       "    <tr>\n",
       "      <th>75%</th>\n",
       "      <td>60.000000</td>\n",
       "      <td>140.000000</td>\n",
       "      <td>267.000000</td>\n",
       "      <td>0.000000</td>\n",
       "      <td>156.000000</td>\n",
       "      <td>1.500000</td>\n",
       "      <td>1.000000</td>\n",
       "    </tr>\n",
       "    <tr>\n",
       "      <th>max</th>\n",
       "      <td>77.000000</td>\n",
       "      <td>200.000000</td>\n",
       "      <td>603.000000</td>\n",
       "      <td>1.000000</td>\n",
       "      <td>202.000000</td>\n",
       "      <td>6.200000</td>\n",
       "      <td>1.000000</td>\n",
       "    </tr>\n",
       "  </tbody>\n",
       "</table>\n",
       "</div>"
      ],
      "text/plain": [
       "              Age   RestingBP  Cholesterol   FastingBS       MaxHR  \\\n",
       "count  918.000000  918.000000   918.000000  918.000000  918.000000   \n",
       "mean    53.510893  132.396514   198.799564    0.233115  136.809368   \n",
       "std      9.432617   18.514154   109.384145    0.423046   25.460334   \n",
       "min     28.000000    0.000000     0.000000    0.000000   60.000000   \n",
       "25%     47.000000  120.000000   173.250000    0.000000  120.000000   \n",
       "50%     54.000000  130.000000   223.000000    0.000000  138.000000   \n",
       "75%     60.000000  140.000000   267.000000    0.000000  156.000000   \n",
       "max     77.000000  200.000000   603.000000    1.000000  202.000000   \n",
       "\n",
       "          Oldpeak  HeartDisease  \n",
       "count  918.000000    918.000000  \n",
       "mean     0.887364      0.553377  \n",
       "std      1.066570      0.497414  \n",
       "min     -2.600000      0.000000  \n",
       "25%      0.000000      0.000000  \n",
       "50%      0.600000      1.000000  \n",
       "75%      1.500000      1.000000  \n",
       "max      6.200000      1.000000  "
      ]
     },
     "execution_count": 4,
     "metadata": {},
     "output_type": "execute_result"
    }
   ],
   "source": [
    "df.describe()"
   ]
  },
  {
   "cell_type": "code",
   "execution_count": 5,
   "id": "9b07f125",
   "metadata": {},
   "outputs": [
    {
     "name": "stdout",
     "output_type": "stream",
     "text": [
      "<class 'pandas.core.frame.DataFrame'>\n",
      "RangeIndex: 918 entries, 0 to 917\n",
      "Data columns (total 12 columns):\n",
      " #   Column          Non-Null Count  Dtype  \n",
      "---  ------          --------------  -----  \n",
      " 0   Age             918 non-null    int64  \n",
      " 1   Sex             918 non-null    object \n",
      " 2   ChestPainType   918 non-null    object \n",
      " 3   RestingBP       918 non-null    int64  \n",
      " 4   Cholesterol     918 non-null    int64  \n",
      " 5   FastingBS       918 non-null    int64  \n",
      " 6   RestingECG      918 non-null    object \n",
      " 7   MaxHR           918 non-null    int64  \n",
      " 8   ExerciseAngina  918 non-null    object \n",
      " 9   Oldpeak         918 non-null    float64\n",
      " 10  ST_Slope        918 non-null    object \n",
      " 11  HeartDisease    918 non-null    int64  \n",
      "dtypes: float64(1), int64(6), object(5)\n",
      "memory usage: 86.2+ KB\n"
     ]
    }
   ],
   "source": [
    "df.info()"
   ]
  },
  {
   "cell_type": "code",
   "execution_count": 6,
   "id": "c8b915b5",
   "metadata": {},
   "outputs": [
    {
     "data": {
      "text/html": [
       "<div>\n",
       "<style scoped>\n",
       "    .dataframe tbody tr th:only-of-type {\n",
       "        vertical-align: middle;\n",
       "    }\n",
       "\n",
       "    .dataframe tbody tr th {\n",
       "        vertical-align: top;\n",
       "    }\n",
       "\n",
       "    .dataframe thead th {\n",
       "        text-align: right;\n",
       "    }\n",
       "</style>\n",
       "<table border=\"1\" class=\"dataframe\">\n",
       "  <thead>\n",
       "    <tr style=\"text-align: right;\">\n",
       "      <th></th>\n",
       "      <th>Age</th>\n",
       "      <th>Sex</th>\n",
       "      <th>ChestPainType</th>\n",
       "      <th>RestingBP</th>\n",
       "      <th>Cholesterol</th>\n",
       "      <th>FastingBS</th>\n",
       "      <th>RestingECG</th>\n",
       "      <th>MaxHR</th>\n",
       "      <th>ExerciseAngina</th>\n",
       "      <th>Oldpeak</th>\n",
       "      <th>ST_Slope</th>\n",
       "      <th>HeartDisease</th>\n",
       "    </tr>\n",
       "  </thead>\n",
       "  <tbody>\n",
       "    <tr>\n",
       "      <th>0</th>\n",
       "      <td>40</td>\n",
       "      <td>M</td>\n",
       "      <td>ATA</td>\n",
       "      <td>140</td>\n",
       "      <td>289</td>\n",
       "      <td>0</td>\n",
       "      <td>Normal</td>\n",
       "      <td>172</td>\n",
       "      <td>N</td>\n",
       "      <td>0.0</td>\n",
       "      <td>Up</td>\n",
       "      <td>0</td>\n",
       "    </tr>\n",
       "    <tr>\n",
       "      <th>1</th>\n",
       "      <td>49</td>\n",
       "      <td>F</td>\n",
       "      <td>NAP</td>\n",
       "      <td>160</td>\n",
       "      <td>180</td>\n",
       "      <td>0</td>\n",
       "      <td>Normal</td>\n",
       "      <td>156</td>\n",
       "      <td>N</td>\n",
       "      <td>1.0</td>\n",
       "      <td>Flat</td>\n",
       "      <td>1</td>\n",
       "    </tr>\n",
       "    <tr>\n",
       "      <th>2</th>\n",
       "      <td>37</td>\n",
       "      <td>M</td>\n",
       "      <td>ATA</td>\n",
       "      <td>130</td>\n",
       "      <td>283</td>\n",
       "      <td>0</td>\n",
       "      <td>ST</td>\n",
       "      <td>98</td>\n",
       "      <td>N</td>\n",
       "      <td>0.0</td>\n",
       "      <td>Up</td>\n",
       "      <td>0</td>\n",
       "    </tr>\n",
       "    <tr>\n",
       "      <th>3</th>\n",
       "      <td>48</td>\n",
       "      <td>F</td>\n",
       "      <td>ASY</td>\n",
       "      <td>138</td>\n",
       "      <td>214</td>\n",
       "      <td>0</td>\n",
       "      <td>Normal</td>\n",
       "      <td>108</td>\n",
       "      <td>Y</td>\n",
       "      <td>1.5</td>\n",
       "      <td>Flat</td>\n",
       "      <td>1</td>\n",
       "    </tr>\n",
       "    <tr>\n",
       "      <th>4</th>\n",
       "      <td>54</td>\n",
       "      <td>M</td>\n",
       "      <td>NAP</td>\n",
       "      <td>150</td>\n",
       "      <td>195</td>\n",
       "      <td>0</td>\n",
       "      <td>Normal</td>\n",
       "      <td>122</td>\n",
       "      <td>N</td>\n",
       "      <td>0.0</td>\n",
       "      <td>Up</td>\n",
       "      <td>0</td>\n",
       "    </tr>\n",
       "  </tbody>\n",
       "</table>\n",
       "</div>"
      ],
      "text/plain": [
       "   Age Sex ChestPainType  RestingBP  Cholesterol  FastingBS RestingECG  MaxHR  \\\n",
       "0   40   M           ATA        140          289          0     Normal    172   \n",
       "1   49   F           NAP        160          180          0     Normal    156   \n",
       "2   37   M           ATA        130          283          0         ST     98   \n",
       "3   48   F           ASY        138          214          0     Normal    108   \n",
       "4   54   M           NAP        150          195          0     Normal    122   \n",
       "\n",
       "  ExerciseAngina  Oldpeak ST_Slope  HeartDisease  \n",
       "0              N      0.0       Up             0  \n",
       "1              N      1.0     Flat             1  \n",
       "2              N      0.0       Up             0  \n",
       "3              Y      1.5     Flat             1  \n",
       "4              N      0.0       Up             0  "
      ]
     },
     "execution_count": 6,
     "metadata": {},
     "output_type": "execute_result"
    }
   ],
   "source": [
    "df.head()"
   ]
  },
  {
   "cell_type": "code",
   "execution_count": 7,
   "id": "2f379c33",
   "metadata": {},
   "outputs": [
    {
     "data": {
      "text/plain": [
       "Age                50\n",
       "Sex                 2\n",
       "ChestPainType       4\n",
       "RestingBP          67\n",
       "Cholesterol       222\n",
       "FastingBS           2\n",
       "RestingECG          3\n",
       "MaxHR             119\n",
       "ExerciseAngina      2\n",
       "Oldpeak            53\n",
       "ST_Slope            3\n",
       "HeartDisease        2\n",
       "dtype: int64"
      ]
     },
     "execution_count": 7,
     "metadata": {},
     "output_type": "execute_result"
    }
   ],
   "source": [
    "df.nunique()"
   ]
  },
  {
   "cell_type": "markdown",
   "id": "4f427794",
   "metadata": {},
   "source": [
    "### data cleaning"
   ]
  },
  {
   "cell_type": "code",
   "execution_count": 8,
   "id": "738d2245",
   "metadata": {},
   "outputs": [],
   "source": [
    "#drop duplicate"
   ]
  },
  {
   "cell_type": "code",
   "execution_count": 9,
   "id": "921131c1",
   "metadata": {},
   "outputs": [
    {
     "name": "stdout",
     "output_type": "stream",
     "text": [
      "shape before duplicate remove : (918, 12)\n",
      "shape after duplicate remove : (918, 12)\n"
     ]
    }
   ],
   "source": [
    "print('shape before duplicate remove :',df.shape)\n",
    "df.drop_duplicates(inplace=True)\n",
    "print('shape after duplicate remove :',df.shape)"
   ]
  },
  {
   "cell_type": "code",
   "execution_count": 10,
   "id": "277beb6d",
   "metadata": {},
   "outputs": [],
   "source": [
    "#no irrelavant columns"
   ]
  },
  {
   "cell_type": "code",
   "execution_count": 11,
   "id": "f782d162",
   "metadata": {},
   "outputs": [],
   "source": [
    "#no structural error"
   ]
  },
  {
   "cell_type": "code",
   "execution_count": 12,
   "id": "41c69bfa",
   "metadata": {},
   "outputs": [
    {
     "data": {
      "text/plain": [
       "Age               0\n",
       "Sex               0\n",
       "ChestPainType     0\n",
       "RestingBP         0\n",
       "Cholesterol       0\n",
       "FastingBS         0\n",
       "RestingECG        0\n",
       "MaxHR             0\n",
       "ExerciseAngina    0\n",
       "Oldpeak           0\n",
       "ST_Slope          0\n",
       "HeartDisease      0\n",
       "dtype: int64"
      ]
     },
     "execution_count": 12,
     "metadata": {},
     "output_type": "execute_result"
    }
   ],
   "source": [
    "#check for missing values\n",
    "df.isnull().sum()"
   ]
  },
  {
   "cell_type": "markdown",
   "id": "97bc9d25",
   "metadata": {},
   "source": [
    "### classify the variables"
   ]
  },
  {
   "cell_type": "code",
   "execution_count": 13,
   "id": "52a9cabd",
   "metadata": {},
   "outputs": [
    {
     "data": {
      "text/plain": [
       "Index(['Age', 'Sex', 'ChestPainType', 'RestingBP', 'Cholesterol', 'FastingBS',\n",
       "       'RestingECG', 'MaxHR', 'ExerciseAngina', 'Oldpeak', 'ST_Slope',\n",
       "       'HeartDisease'],\n",
       "      dtype='object')"
      ]
     },
     "execution_count": 13,
     "metadata": {},
     "output_type": "execute_result"
    }
   ],
   "source": [
    "df.columns"
   ]
  },
  {
   "cell_type": "code",
   "execution_count": 14,
   "id": "e27923e4",
   "metadata": {},
   "outputs": [
    {
     "name": "stdout",
     "output_type": "stream",
     "text": [
      "cat_col : ['Sex', 'ChestPainType', 'FastingBS', 'RestingECG', 'ExerciseAngina', 'ST_Slope', 'HeartDisease']\n",
      "cont_col : ['Age', 'RestingBP', 'Cholesterol', 'MaxHR', 'Oldpeak']\n"
     ]
    }
   ],
   "source": [
    "cat_col=[]\n",
    "cont_col=[]\n",
    "for i in df.columns:\n",
    "    if df[i].nunique()>40:\n",
    "        cont_col.append(i)\n",
    "    else:\n",
    "        cat_col.append(i)\n",
    "        \n",
    "print('cat_col :',cat_col)\n",
    "print('cont_col :',cont_col)\n"
   ]
  },
  {
   "cell_type": "code",
   "execution_count": 15,
   "id": "614bf43c",
   "metadata": {},
   "outputs": [
    {
     "name": "stdout",
     "output_type": "stream",
     "text": [
      "target : ['HeartDisease']\n",
      "nom_col : ['Sex', 'ChestPainType', 'FastingBS', 'ExerciseAngina', 'ST_Slope']\n",
      "ord_col : ['RestingECG']\n",
      "cont_col : ['Age', 'RestingBP', 'Cholesterol', 'MaxHR', 'Oldpeak']\n"
     ]
    }
   ],
   "source": [
    "target=['HeartDisease']\n",
    "ord_col=['RestingECG']\n",
    "nom_col=['Sex', 'ChestPainType', 'FastingBS', 'ExerciseAngina', 'ST_Slope']\n",
    "\n",
    "print('target :',target)\n",
    "print('nom_col :',nom_col)\n",
    "print('ord_col :',ord_col)\n",
    "print('cont_col :',cont_col)"
   ]
  },
  {
   "cell_type": "markdown",
   "id": "a34fc387",
   "metadata": {},
   "source": [
    "# EDA"
   ]
  },
  {
   "cell_type": "markdown",
   "id": "6b8da5d5",
   "metadata": {},
   "source": [
    "### Univariate Analysis"
   ]
  },
  {
   "cell_type": "code",
   "execution_count": 16,
   "id": "aa1376d0",
   "metadata": {},
   "outputs": [],
   "source": [
    "import matplotlib.pyplot as plt\n",
    "import seaborn as sns\n",
    "\n",
    "%matplotlib inline"
   ]
  },
  {
   "cell_type": "markdown",
   "id": "20efe521",
   "metadata": {},
   "source": [
    "#### Cat Variable analysis"
   ]
  },
  {
   "cell_type": "code",
   "execution_count": 17,
   "id": "04afa67c",
   "metadata": {},
   "outputs": [
    {
     "name": "stdout",
     "output_type": "stream",
     "text": [
      "===========\n",
      "Name :  HeartDisease\n",
      "--------------\n",
      "1    508\n",
      "0    410\n",
      "Name: HeartDisease, dtype: int64\n",
      "===========\n",
      "Name :  Sex\n",
      "--------------\n",
      "M    725\n",
      "F    193\n",
      "Name: Sex, dtype: int64\n",
      "===========\n",
      "Name :  ChestPainType\n",
      "--------------\n",
      "ASY    496\n",
      "NAP    203\n",
      "ATA    173\n",
      "TA      46\n",
      "Name: ChestPainType, dtype: int64\n",
      "===========\n",
      "Name :  FastingBS\n",
      "--------------\n",
      "0    704\n",
      "1    214\n",
      "Name: FastingBS, dtype: int64\n",
      "===========\n",
      "Name :  ExerciseAngina\n",
      "--------------\n",
      "N    547\n",
      "Y    371\n",
      "Name: ExerciseAngina, dtype: int64\n",
      "===========\n",
      "Name :  ST_Slope\n",
      "--------------\n",
      "Flat    460\n",
      "Up      395\n",
      "Down     63\n",
      "Name: ST_Slope, dtype: int64\n",
      "===========\n",
      "Name :  RestingECG\n",
      "--------------\n",
      "Normal    552\n",
      "LVH       188\n",
      "ST        178\n",
      "Name: RestingECG, dtype: int64\n"
     ]
    }
   ],
   "source": [
    "#statistical distribution for target,nom, ordinal val\n",
    "for i in target:\n",
    "    print('===========')\n",
    "    print('Name : ',i)\n",
    "    print('--------------')\n",
    "    print(df[i].value_counts())\n",
    "\n",
    "for i in nom_col:\n",
    "    print('===========')\n",
    "    print('Name : ',i)\n",
    "    print('--------------')\n",
    "    print(df[i].value_counts())\n",
    "    \n",
    "for i in ord_col:\n",
    "    print('===========')\n",
    "    print('Name : ',i)\n",
    "    print('--------------')\n",
    "    print(df[i].value_counts())"
   ]
  },
  {
   "cell_type": "code",
   "execution_count": 18,
   "id": "68ffd5d1",
   "metadata": {},
   "outputs": [
    {
     "name": "stdout",
     "output_type": "stream",
     "text": [
      "===========\n",
      "Name :  HeartDisease\n",
      "--------------\n"
     ]
    },
    {
     "data": {
      "image/png": "[encoded data removed]",
      "text/plain": [
       "<Figure size 432x288 with 1 Axes>"
      ]
     },
     "metadata": {
      "needs_background": "light"
     },
     "output_type": "display_data"
    },
    {
     "name": "stdout",
     "output_type": "stream",
     "text": [
      "===========\n",
      "Name :  Sex\n",
      "--------------\n"
     ]
    },
    {
     "data": {
      "image/png": "[encoded data removed]",
      "text/plain": [
       "<Figure size 432x288 with 1 Axes>"
      ]
     },
     "metadata": {
      "needs_background": "light"
     },
     "output_type": "display_data"
    },
    {
     "name": "stdout",
     "output_type": "stream",
     "text": [
      "===========\n",
      "Name :  ChestPainType\n",
      "--------------\n"
     ]
    },
    {
     "data": {
      "image/png": "[encoded data removed]",
      "text/plain": [
       "<Figure size 432x288 with 1 Axes>"
      ]
     },
     "metadata": {
      "needs_background": "light"
     },
     "output_type": "display_data"
    },
    {
     "name": "stdout",
     "output_type": "stream",
     "text": [
      "===========\n",
      "Name :  FastingBS\n",
      "--------------\n"
     ]
    },
    {
     "data": {
      "image/png": "[encoded data removed]",
      "text/plain": [
       "<Figure size 432x288 with 1 Axes>"
      ]
     },
     "metadata": {
      "needs_background": "light"
     },
     "output_type": "display_data"
    },
    {
     "name": "stdout",
     "output_type": "stream",
     "text": [
      "===========\n",
      "Name :  ExerciseAngina\n",
      "--------------\n"
     ]
    },
    {
     "data": {
      "image/png": "[encoded data removed]",
      "text/plain": [
       "<Figure size 432x288 with 1 Axes>"
      ]
     },
     "metadata": {
      "needs_background": "light"
     },
     "output_type": "display_data"
    },
    {
     "name": "stdout",
     "output_type": "stream",
     "text": [
      "===========\n",
      "Name :  ST_Slope\n",
      "--------------\n"
     ]
    },
    {
     "data": {
      "image/png": "[encoded data removed]",
      "text/plain": [
       "<Figure size 432x288 with 1 Axes>"
      ]
     },
     "metadata": {
      "needs_background": "light"
     },
     "output_type": "display_data"
    },
    {
     "name": "stdout",
     "output_type": "stream",
     "text": [
      "===========\n",
      "Name :  RestingECG\n",
      "--------------\n"
     ]
    },
    {
     "data": {
      "image/png": "[encoded data removed]",
      "text/plain": [
       "<Figure size 432x288 with 1 Axes>"
      ]
     },
     "metadata": {
      "needs_background": "light"
     },
     "output_type": "display_data"
    }
   ],
   "source": [
    "#visulization for target,nom, ordinal val\n",
    "\n",
    "for i in target:\n",
    "    print('===========')\n",
    "    print('Name : ',i)\n",
    "    print('--------------')\n",
    "    sns.countplot(data=df,x=i)\n",
    "    plt.show()\n",
    "\n",
    "for i in nom_col:\n",
    "    print('===========')\n",
    "    print('Name : ',i)\n",
    "    print('--------------')\n",
    "    sns.countplot(data=df,x=i)\n",
    "    plt.show()\n",
    "    \n",
    "for i in ord_col:\n",
    "    print('===========')\n",
    "    print('Name : ',i)\n",
    "    print('--------------')\n",
    "    sns.countplot(data=df,x=i)\n",
    "    plt.show()\n",
    "    \n"
   ]
  },
  {
   "cell_type": "markdown",
   "id": "87a9435d",
   "metadata": {},
   "source": [
    "### Cont Variable analysis"
   ]
  },
  {
   "cell_type": "markdown",
   "id": "3bd782c6",
   "metadata": {},
   "source": [
    "#### check for distribution & skewness"
   ]
  },
  {
   "cell_type": "code",
   "execution_count": 19,
   "id": "af3beb08",
   "metadata": {},
   "outputs": [
    {
     "name": "stdout",
     "output_type": "stream",
     "text": [
      "===========\n",
      "Name :  Age skewness value :  -0.19593302867569365\n",
      "--------------\n"
     ]
    },
    {
     "data": {
      "image/png": "[encoded data removed]",
      "text/plain": [
       "<Figure size 432x288 with 1 Axes>"
      ]
     },
     "metadata": {
      "needs_background": "light"
     },
     "output_type": "display_data"
    },
    {
     "name": "stdout",
     "output_type": "stream",
     "text": [
      "===========\n",
      "Name :  RestingBP skewness value :  0.1798393100516288\n",
      "--------------\n"
     ]
    },
    {
     "data": {
      "image/png": "[encoded data removed]",
      "text/plain": [
       "<Figure size 432x288 with 1 Axes>"
      ]
     },
     "metadata": {
      "needs_background": "light"
     },
     "output_type": "display_data"
    },
    {
     "name": "stdout",
     "output_type": "stream",
     "text": [
      "===========\n",
      "Name :  Cholesterol skewness value :  -0.6100864307268192\n",
      "--------------\n"
     ]
    },
    {
     "data": {
      "image/png": "[encoded data removed]",
      "text/plain": [
       "<Figure size 432x288 with 1 Axes>"
      ]
     },
     "metadata": {
      "needs_background": "light"
     },
     "output_type": "display_data"
    },
    {
     "name": "stdout",
     "output_type": "stream",
     "text": [
      "===========\n",
      "Name :  MaxHR skewness value :  -0.14435941846180994\n",
      "--------------\n"
     ]
    },
    {
     "data": {
      "image/png": "[encoded data removed]",
      "text/plain": [
       "<Figure size 432x288 with 1 Axes>"
      ]
     },
     "metadata": {
      "needs_background": "light"
     },
     "output_type": "display_data"
    },
    {
     "name": "stdout",
     "output_type": "stream",
     "text": [
      "===========\n",
      "Name :  Oldpeak skewness value :  1.0228720218107528\n",
      "--------------\n"
     ]
    },
    {
     "data": {
      "image/png": "[encoded data removed]",
      "text/plain": [
       "<Figure size 432x288 with 1 Axes>"
      ]
     },
     "metadata": {
      "needs_background": "light"
     },
     "output_type": "display_data"
    }
   ],
   "source": [
    "for i in cont_col:\n",
    "    print('===========')\n",
    "    print('Name : ',i,\"skewness value : \",df[i].skew())\n",
    "    print('--------------')\n",
    "    df[i].plot(kind='hist')\n",
    "    plt.show()"
   ]
  },
  {
   "cell_type": "code",
   "execution_count": null,
   "id": "1fb4b681",
   "metadata": {},
   "outputs": [],
   "source": []
  },
  {
   "cell_type": "code",
   "execution_count": 20,
   "id": "2164c15f",
   "metadata": {},
   "outputs": [
    {
     "data": {
      "text/plain": [
       "<AxesSubplot:>"
      ]
     },
     "execution_count": 20,
     "metadata": {},
     "output_type": "execute_result"
    },
    {
     "data": {
      "image/png": "[encoded data removed]",
      "text/plain": [
       "<Figure size 432x288 with 2 Axes>"
      ]
     },
     "metadata": {
      "needs_background": "light"
     },
     "output_type": "display_data"
    }
   ],
   "source": [
    "sns.heatmap(df.corr(),annot=True)"
   ]
  },
  {
   "cell_type": "code",
   "execution_count": 21,
   "id": "dc53def4",
   "metadata": {},
   "outputs": [],
   "source": [
    "from scipy import stats"
   ]
  },
  {
   "cell_type": "code",
   "execution_count": 22,
   "id": "ff970a3b",
   "metadata": {},
   "outputs": [
    {
     "name": "stdout",
     "output_type": "stream",
     "text": [
      "-0.6662633550178783\n"
     ]
    },
    {
     "name": "stderr",
     "output_type": "stream",
     "text": [
      "C:\\Users\\hp\\anaconda3\\lib\\site-packages\\seaborn\\distributions.py:2557: FutureWarning: `distplot` is a deprecated function and will be removed in a future version. Please adapt your code to use either `displot` (a figure-level function with similar flexibility) or `histplot` (an axes-level function for histograms).\n",
      "  warnings.warn(msg, FutureWarning)\n"
     ]
    },
    {
     "data": {
      "text/plain": [
       "<AxesSubplot:xlabel='MaxHR', ylabel='Density'>"
      ]
     },
     "execution_count": 22,
     "metadata": {},
     "output_type": "execute_result"
    },
    {
     "data": {
      "image/png": "[encoded data removed]",
      "text/plain": [
       "<Figure size 432x288 with 1 Axes>"
      ]
     },
     "metadata": {
      "needs_background": "light"
     },
     "output_type": "display_data"
    }
   ],
   "source": [
    "MaxHR_log=np.log(df['MaxHR'])\n",
    "print(MaxHR_log.skew())\n",
    "sns.distplot(MaxHR_log)\n"
   ]
  },
  {
   "cell_type": "code",
   "execution_count": 23,
   "id": "d4c1712c",
   "metadata": {},
   "outputs": [
    {
     "data": {
      "text/plain": [
       "0      5.147494\n",
       "1      5.049856\n",
       "2      4.584967\n",
       "3      4.682131\n",
       "4      4.804021\n",
       "         ...   \n",
       "913    4.882802\n",
       "914    4.948760\n",
       "915    4.744932\n",
       "916    5.159055\n",
       "917    5.153292\n",
       "Name: MaxHR, Length: 918, dtype: float64"
      ]
     },
     "execution_count": 23,
     "metadata": {},
     "output_type": "execute_result"
    }
   ],
   "source": [
    "MaxHR_log"
   ]
  },
  {
   "cell_type": "code",
   "execution_count": 24,
   "id": "a8c2d8bf",
   "metadata": {},
   "outputs": [],
   "source": [
    "df['MaxHR']=MaxHR_log"
   ]
  },
  {
   "cell_type": "code",
   "execution_count": 25,
   "id": "96fc7255",
   "metadata": {},
   "outputs": [
    {
     "data": {
      "text/plain": [
       "<AxesSubplot:>"
      ]
     },
     "execution_count": 25,
     "metadata": {},
     "output_type": "execute_result"
    },
    {
     "data": {
      "image/png": "[encoded data removed]",
      "text/plain": [
       "<Figure size 432x288 with 2 Axes>"
      ]
     },
     "metadata": {
      "needs_background": "light"
     },
     "output_type": "display_data"
    }
   ],
   "source": [
    "sns.heatmap(df.corr(),annot=True)"
   ]
  },
  {
   "cell_type": "code",
   "execution_count": 26,
   "id": "800fb654",
   "metadata": {},
   "outputs": [],
   "source": [
    "#conclusion: After applying log transformation on MaxHR, \n",
    "#it's corr decressing with target variable so we don't perform log transformation"
   ]
  },
  {
   "cell_type": "code",
   "execution_count": null,
   "id": "cab341d6",
   "metadata": {},
   "outputs": [],
   "source": []
  },
  {
   "cell_type": "code",
   "execution_count": 27,
   "id": "aa0709d4",
   "metadata": {},
   "outputs": [
    {
     "name": "stdout",
     "output_type": "stream",
     "text": [
      "===========\n",
      "Name :  Age\n",
      "--------------\n"
     ]
    },
    {
     "data": {
      "image/png": "[encoded data removed]",
      "text/plain": [
       "<Figure size 432x288 with 1 Axes>"
      ]
     },
     "metadata": {
      "needs_background": "light"
     },
     "output_type": "display_data"
    },
    {
     "name": "stdout",
     "output_type": "stream",
     "text": [
      "===========\n",
      "Name :  RestingBP\n",
      "--------------\n"
     ]
    },
    {
     "data": {
      "image/png": "[encoded data removed]",
      "text/plain": [
       "<Figure size 432x288 with 1 Axes>"
      ]
     },
     "metadata": {
      "needs_background": "light"
     },
     "output_type": "display_data"
    },
    {
     "name": "stdout",
     "output_type": "stream",
     "text": [
      "===========\n",
      "Name :  Cholesterol\n",
      "--------------\n"
     ]
    },
    {
     "data": {
      "image/png": "[encoded data removed]",
      "text/plain": [
       "<Figure size 432x288 with 1 Axes>"
      ]
     },
     "metadata": {
      "needs_background": "light"
     },
     "output_type": "display_data"
    },
    {
     "name": "stdout",
     "output_type": "stream",
     "text": [
      "===========\n",
      "Name :  MaxHR\n",
      "--------------\n"
     ]
    },
    {
     "data": {
      "image/png": "[encoded data removed]",
      "text/plain": [
       "<Figure size 432x288 with 1 Axes>"
      ]
     },
     "metadata": {
      "needs_background": "light"
     },
     "output_type": "display_data"
    },
    {
     "name": "stdout",
     "output_type": "stream",
     "text": [
      "===========\n",
      "Name :  Oldpeak\n",
      "--------------\n"
     ]
    },
    {
     "data": {
      "image/png": "[encoded data removed]",
      "text/plain": [
       "<Figure size 432x288 with 1 Axes>"
      ]
     },
     "metadata": {
      "needs_background": "light"
     },
     "output_type": "display_data"
    }
   ],
   "source": [
    "for i in cont_col:\n",
    "    print('===========')\n",
    "    print('Name : ',i)\n",
    "    print('--------------')\n",
    "    df[i].plot(kind='box')\n",
    "    plt.show()"
   ]
  },
  {
   "cell_type": "code",
   "execution_count": 28,
   "id": "64561683",
   "metadata": {},
   "outputs": [],
   "source": [
    "#hold on for outlier removal till evaluation"
   ]
  },
  {
   "cell_type": "raw",
   "id": "7fb77122",
   "metadata": {},
   "source": [
    "#check for outlier\n",
    "\n",
    "\n",
    "# IQR\n",
    "Q1 = np.percentile(df_boston['DIS'], 25,\n",
    "                   interpolation = 'midpoint')\n",
    " \n",
    "Q3 = np.percentile(df_boston['DIS'], 75,\n",
    "                   interpolation = 'midpoint')\n",
    "IQR = Q3 - Q1\n",
    "\n",
    "# Upper bound\n",
    "upper = np.where(df_boston['DIS'] >= (Q3+1.5*IQR))\n",
    "# Lower bound\n",
    "lower = np.where(df_boston['DIS'] <= (Q1-1.5*IQR))\n",
    " \n",
    "''' Removing the Outliers '''\n",
    "df_boston.drop(upper[0], inplace = True)\n",
    "df_boston.drop(lower[0], inplace = True)\n"
   ]
  },
  {
   "cell_type": "markdown",
   "id": "4df9bad1",
   "metadata": {},
   "source": [
    "## Multivariate analysis"
   ]
  },
  {
   "cell_type": "markdown",
   "id": "2fefadbf",
   "metadata": {},
   "source": [
    "### cat-cont var (parallel box plot)\n"
   ]
  },
  {
   "cell_type": "code",
   "execution_count": 29,
   "id": "d402fc35",
   "metadata": {},
   "outputs": [
    {
     "name": "stdout",
     "output_type": "stream",
     "text": [
      "===========\n",
      "Name :  Age\n",
      "--------------\n"
     ]
    },
    {
     "data": {
      "image/png": "[encoded data removed]",
      "text/plain": [
       "<Figure size 360x360 with 1 Axes>"
      ]
     },
     "metadata": {
      "needs_background": "light"
     },
     "output_type": "display_data"
    },
    {
     "name": "stdout",
     "output_type": "stream",
     "text": [
      "===========\n",
      "Name :  RestingBP\n",
      "--------------\n"
     ]
    },
    {
     "data": {
      "image/png": "[encoded data removed]",
      "text/plain": [
       "<Figure size 360x360 with 1 Axes>"
      ]
     },
     "metadata": {
      "needs_background": "light"
     },
     "output_type": "display_data"
    },
    {
     "name": "stdout",
     "output_type": "stream",
     "text": [
      "===========\n",
      "Name :  Cholesterol\n",
      "--------------\n"
     ]
    },
    {
     "data": {
      "image/png": "[encoded data removed]",
      "text/plain": [
       "<Figure size 360x360 with 1 Axes>"
      ]
     },
     "metadata": {
      "needs_background": "light"
     },
     "output_type": "display_data"
    },
    {
     "name": "stdout",
     "output_type": "stream",
     "text": [
      "===========\n",
      "Name :  MaxHR\n",
      "--------------\n"
     ]
    },
    {
     "data": {
      "image/png": "[encoded data removed]",
      "text/plain": [
       "<Figure size 360x360 with 1 Axes>"
      ]
     },
     "metadata": {
      "needs_background": "light"
     },
     "output_type": "display_data"
    },
    {
     "name": "stdout",
     "output_type": "stream",
     "text": [
      "===========\n",
      "Name :  Oldpeak\n",
      "--------------\n"
     ]
    },
    {
     "data": {
      "image/png": "[encoded data removed]",
      "text/plain": [
       "<Figure size 360x360 with 1 Axes>"
      ]
     },
     "metadata": {
      "needs_background": "light"
     },
     "output_type": "display_data"
    }
   ],
   "source": [
    "for i in cont_col:\n",
    "    print('===========')\n",
    "    print('Name : ',i)\n",
    "    print('--------------')\n",
    "    sns.catplot(data=df,x='HeartDisease',y=i,kind='box')\n",
    "    plt.show()\n"
   ]
  },
  {
   "cell_type": "code",
   "execution_count": 30,
   "id": "ef55abe9",
   "metadata": {},
   "outputs": [],
   "source": [
    "#conclusion:\n",
    "#those with Cholesterol & Oldpeak as 1(yes), have greater chance of heart problem than 0 (no)"
   ]
  },
  {
   "cell_type": "markdown",
   "id": "56dd1354",
   "metadata": {},
   "source": [
    "## Cat and Cat : group bar plot"
   ]
  },
  {
   "cell_type": "code",
   "execution_count": 31,
   "id": "65d4c6de",
   "metadata": {},
   "outputs": [
    {
     "name": "stdout",
     "output_type": "stream",
     "text": [
      "===========\n",
      "Name :  Sex\n",
      "--------------\n"
     ]
    },
    {
     "data": {
      "image/png": "[encoded data removed]",
      "text/plain": [
       "<Figure size 432x288 with 1 Axes>"
      ]
     },
     "metadata": {
      "needs_background": "light"
     },
     "output_type": "display_data"
    },
    {
     "name": "stdout",
     "output_type": "stream",
     "text": [
      "===========\n",
      "Name :  ChestPainType\n",
      "--------------\n"
     ]
    },
    {
     "data": {
      "image/png": "[encoded data removed]",
      "text/plain": [
       "<Figure size 432x288 with 1 Axes>"
      ]
     },
     "metadata": {
      "needs_background": "light"
     },
     "output_type": "display_data"
    },
    {
     "name": "stdout",
     "output_type": "stream",
     "text": [
      "===========\n",
      "Name :  FastingBS\n",
      "--------------\n"
     ]
    },
    {
     "data": {
      "image/png": "[encoded data removed]",
      "text/plain": [
       "<Figure size 432x288 with 1 Axes>"
      ]
     },
     "metadata": {
      "needs_background": "light"
     },
     "output_type": "display_data"
    },
    {
     "name": "stdout",
     "output_type": "stream",
     "text": [
      "===========\n",
      "Name :  ExerciseAngina\n",
      "--------------\n"
     ]
    },
    {
     "data": {
      "image/png": "[encoded data removed]",
      "text/plain": [
       "<Figure size 432x288 with 1 Axes>"
      ]
     },
     "metadata": {
      "needs_background": "light"
     },
     "output_type": "display_data"
    },
    {
     "name": "stdout",
     "output_type": "stream",
     "text": [
      "===========\n",
      "Name :  ST_Slope\n",
      "--------------\n"
     ]
    },
    {
     "data": {
      "image/png": "[encoded data removed]",
      "text/plain": [
       "<Figure size 432x288 with 1 Axes>"
      ]
     },
     "metadata": {
      "needs_background": "light"
     },
     "output_type": "display_data"
    },
    {
     "name": "stdout",
     "output_type": "stream",
     "text": [
      "===========\n",
      "Name :  RestingECG\n",
      "--------------\n"
     ]
    },
    {
     "data": {
      "image/png": "[encoded data removed]",
      "text/plain": [
       "<Figure size 432x288 with 1 Axes>"
      ]
     },
     "metadata": {
      "needs_background": "light"
     },
     "output_type": "display_data"
    }
   ],
   "source": [
    "for i in nom_col:\n",
    "    print('===========')\n",
    "    print('Name : ',i)\n",
    "    print('--------------')\n",
    "    sns.countplot(data=df,y=i,hue='HeartDisease')\n",
    "    plt.show()\n",
    "    \n",
    "for i in ord_col:\n",
    "    print('===========')\n",
    "    print('Name : ',i)\n",
    "    print('--------------')\n",
    "    sns.countplot(data=df,y=i,hue='HeartDisease')\n",
    "    plt.show()\n"
   ]
  },
  {
   "cell_type": "code",
   "execution_count": 32,
   "id": "e82e4a0a",
   "metadata": {},
   "outputs": [],
   "source": [
    "#Conclusion\n",
    "#Sex : Male have high chances of heart disease than female\n",
    "#ChestPainType : those with ASY have high chances of heart disease\n",
    "#ExerciseAngina : those with yes have high chances of heart disease\n",
    "#ST_Slope : those with flat ST_Slope have high chances of heart disease"
   ]
  },
  {
   "cell_type": "markdown",
   "id": "b57856ee",
   "metadata": {},
   "source": [
    "### cont vs cont : scatter plot"
   ]
  },
  {
   "cell_type": "code",
   "execution_count": 33,
   "id": "e548a19e",
   "metadata": {},
   "outputs": [
    {
     "data": {
      "text/plain": [
       "['Age', 'RestingBP', 'Cholesterol', 'MaxHR', 'Oldpeak']"
      ]
     },
     "execution_count": 33,
     "metadata": {},
     "output_type": "execute_result"
    }
   ],
   "source": [
    "cont_col"
   ]
  },
  {
   "cell_type": "code",
   "execution_count": 34,
   "id": "9ca7e2bf",
   "metadata": {},
   "outputs": [
    {
     "name": "stdout",
     "output_type": "stream",
     "text": [
      "Scatter plot w.r.t Age\n",
      "===========\n",
      "Name :  RestingBP\n",
      "--------------\n"
     ]
    },
    {
     "data": {
      "image/png": "[encoded data removed]",
      "text/plain": [
       "<Figure size 432x288 with 1 Axes>"
      ]
     },
     "metadata": {
      "needs_background": "light"
     },
     "output_type": "display_data"
    },
    {
     "name": "stdout",
     "output_type": "stream",
     "text": [
      "===========\n",
      "Name :  Cholesterol\n",
      "--------------\n"
     ]
    },
    {
     "data": {
      "image/png": "[encoded data removed]",
      "text/plain": [
       "<Figure size 432x288 with 1 Axes>"
      ]
     },
     "metadata": {
      "needs_background": "light"
     },
     "output_type": "display_data"
    },
    {
     "name": "stdout",
     "output_type": "stream",
     "text": [
      "===========\n",
      "Name :  MaxHR\n",
      "--------------\n"
     ]
    },
    {
     "data": {
      "image/png": "[encoded data removed]",
      "text/plain": [
       "<Figure size 432x288 with 1 Axes>"
      ]
     },
     "metadata": {
      "needs_background": "light"
     },
     "output_type": "display_data"
    },
    {
     "name": "stdout",
     "output_type": "stream",
     "text": [
      "===========\n",
      "Name :  Oldpeak\n",
      "--------------\n"
     ]
    },
    {
     "data": {
      "image/png": "[encoded data removed]",
      "text/plain": [
       "<Figure size 432x288 with 1 Axes>"
      ]
     },
     "metadata": {
      "needs_background": "light"
     },
     "output_type": "display_data"
    }
   ],
   "source": [
    "print('Scatter plot w.r.t Age')\n",
    "for i in cont_col:\n",
    "    if i=='Age':\n",
    "        continue\n",
    "    print('===========')\n",
    "    print('Name : ',i)\n",
    "    print('--------------')\n",
    "    df.plot.scatter(x=i,y='Age')\n",
    "    plt.show()\n"
   ]
  },
  {
   "cell_type": "code",
   "execution_count": 35,
   "id": "ad15e3c0",
   "metadata": {},
   "outputs": [
    {
     "name": "stdout",
     "output_type": "stream",
     "text": [
      "Scatter plot w.r.t RestingBP\n",
      "===========\n",
      "Name :  Age\n",
      "--------------\n"
     ]
    },
    {
     "data": {
      "image/png": "[encoded data removed]",
      "text/plain": [
       "<Figure size 432x288 with 1 Axes>"
      ]
     },
     "metadata": {
      "needs_background": "light"
     },
     "output_type": "display_data"
    },
    {
     "name": "stdout",
     "output_type": "stream",
     "text": [
      "===========\n",
      "Name :  Cholesterol\n",
      "--------------\n"
     ]
    },
    {
     "data": {
      "image/png": "[encoded data removed]",
      "text/plain": [
       "<Figure size 432x288 with 1 Axes>"
      ]
     },
     "metadata": {
      "needs_background": "light"
     },
     "output_type": "display_data"
    },
    {
     "name": "stdout",
     "output_type": "stream",
     "text": [
      "===========\n",
      "Name :  MaxHR\n",
      "--------------\n"
     ]
    },
    {
     "data": {
      "image/png": "[encoded data removed]",
      "text/plain": [
       "<Figure size 432x288 with 1 Axes>"
      ]
     },
     "metadata": {
      "needs_background": "light"
     },
     "output_type": "display_data"
    },
    {
     "name": "stdout",
     "output_type": "stream",
     "text": [
      "===========\n",
      "Name :  Oldpeak\n",
      "--------------\n"
     ]
    },
    {
     "data": {
      "image/png": "[encoded data removed]",
      "text/plain": [
       "<Figure size 432x288 with 1 Axes>"
      ]
     },
     "metadata": {
      "needs_background": "light"
     },
     "output_type": "display_data"
    }
   ],
   "source": [
    "print('Scatter plot w.r.t RestingBP')\n",
    "for i in cont_col:\n",
    "    if i=='RestingBP':\n",
    "        continue\n",
    "    print('===========')\n",
    "    print('Name : ',i)\n",
    "    print('--------------')\n",
    "    df.plot.scatter(x=i,y='RestingBP')\n",
    "    plt.show()"
   ]
  },
  {
   "cell_type": "code",
   "execution_count": 36,
   "id": "8910b638",
   "metadata": {},
   "outputs": [
    {
     "name": "stdout",
     "output_type": "stream",
     "text": [
      "Scatter plot w.r.t Cholesterol\n",
      "===========\n",
      "Name :  Age\n",
      "--------------\n"
     ]
    },
    {
     "data": {
      "image/png": "[encoded data removed]",
      "text/plain": [
       "<Figure size 432x288 with 1 Axes>"
      ]
     },
     "metadata": {
      "needs_background": "light"
     },
     "output_type": "display_data"
    },
    {
     "name": "stdout",
     "output_type": "stream",
     "text": [
      "===========\n",
      "Name :  RestingBP\n",
      "--------------\n"
     ]
    },
    {
     "data": {
      "image/png": "[encoded data removed]",
      "text/plain": [
       "<Figure size 432x288 with 1 Axes>"
      ]
     },
     "metadata": {
      "needs_background": "light"
     },
     "output_type": "display_data"
    },
    {
     "name": "stdout",
     "output_type": "stream",
     "text": [
      "===========\n",
      "Name :  MaxHR\n",
      "--------------\n"
     ]
    },
    {
     "data": {
      "image/png": "[encoded data removed]",
      "text/plain": [
       "<Figure size 432x288 with 1 Axes>"
      ]
     },
     "metadata": {
      "needs_background": "light"
     },
     "output_type": "display_data"
    },
    {
     "name": "stdout",
     "output_type": "stream",
     "text": [
      "===========\n",
      "Name :  Oldpeak\n",
      "--------------\n"
     ]
    },
    {
     "data": {
      "image/png": "[encoded data removed]",
      "text/plain": [
       "<Figure size 432x288 with 1 Axes>"
      ]
     },
     "metadata": {
      "needs_background": "light"
     },
     "output_type": "display_data"
    }
   ],
   "source": [
    "print('Scatter plot w.r.t Cholesterol')\n",
    "for i in cont_col:\n",
    "    if i=='Cholesterol':\n",
    "        continue\n",
    "    print('===========')\n",
    "    print('Name : ',i)\n",
    "    print('--------------')\n",
    "    df.plot.scatter(x=i,y='Cholesterol')\n",
    "    plt.show()"
   ]
  },
  {
   "cell_type": "code",
   "execution_count": 37,
   "id": "bbab58ab",
   "metadata": {},
   "outputs": [
    {
     "name": "stdout",
     "output_type": "stream",
     "text": [
      "Scatter plot w.r.t MaxHR\n",
      "===========\n",
      "Name :  Age\n",
      "--------------\n"
     ]
    },
    {
     "data": {
      "image/png": "[encoded data removed]",
      "text/plain": [
       "<Figure size 432x288 with 1 Axes>"
      ]
     },
     "metadata": {
      "needs_background": "light"
     },
     "output_type": "display_data"
    },
    {
     "name": "stdout",
     "output_type": "stream",
     "text": [
      "===========\n",
      "Name :  RestingBP\n",
      "--------------\n"
     ]
    },
    {
     "data": {
      "image/png": "[encoded data removed]",
      "text/plain": [
       "<Figure size 432x288 with 1 Axes>"
      ]
     },
     "metadata": {
      "needs_background": "light"
     },
     "output_type": "display_data"
    },
    {
     "name": "stdout",
     "output_type": "stream",
     "text": [
      "===========\n",
      "Name :  Cholesterol\n",
      "--------------\n"
     ]
    },
    {
     "data": {
      "image/png": "[encoded data removed]",
      "text/plain": [
       "<Figure size 432x288 with 1 Axes>"
      ]
     },
     "metadata": {
      "needs_background": "light"
     },
     "output_type": "display_data"
    },
    {
     "name": "stdout",
     "output_type": "stream",
     "text": [
      "===========\n",
      "Name :  Oldpeak\n",
      "--------------\n"
     ]
    },
    {
     "data": {
      "image/png": "[encoded data removed]",
      "text/plain": [
       "<Figure size 432x288 with 1 Axes>"
      ]
     },
     "metadata": {
      "needs_background": "light"
     },
     "output_type": "display_data"
    }
   ],
   "source": [
    "print('Scatter plot w.r.t MaxHR')\n",
    "for i in cont_col:\n",
    "    if i=='MaxHR':\n",
    "        continue\n",
    "    print('===========')\n",
    "    print('Name : ',i)\n",
    "    print('--------------')\n",
    "    df.plot.scatter(x=i,y='MaxHR')\n",
    "    plt.show()"
   ]
  },
  {
   "cell_type": "code",
   "execution_count": 38,
   "id": "41486a40",
   "metadata": {},
   "outputs": [
    {
     "name": "stdout",
     "output_type": "stream",
     "text": [
      "Scatter plot w.r.t Oldpeak\n",
      "===========\n",
      "Name :  Age\n",
      "--------------\n"
     ]
    },
    {
     "data": {
      "image/png": "[encoded data removed]",
      "text/plain": [
       "<Figure size 432x288 with 1 Axes>"
      ]
     },
     "metadata": {
      "needs_background": "light"
     },
     "output_type": "display_data"
    },
    {
     "name": "stdout",
     "output_type": "stream",
     "text": [
      "===========\n",
      "Name :  RestingBP\n",
      "--------------\n"
     ]
    },
    {
     "data": {
      "image/png": "[encoded data removed]",
      "text/plain": [
       "<Figure size 432x288 with 1 Axes>"
      ]
     },
     "metadata": {
      "needs_background": "light"
     },
     "output_type": "display_data"
    },
    {
     "name": "stdout",
     "output_type": "stream",
     "text": [
      "===========\n",
      "Name :  Cholesterol\n",
      "--------------\n"
     ]
    },
    {
     "data": {
      "image/png": "[encoded data removed]",
      "text/plain": [
       "<Figure size 432x288 with 1 Axes>"
      ]
     },
     "metadata": {
      "needs_background": "light"
     },
     "output_type": "display_data"
    },
    {
     "name": "stdout",
     "output_type": "stream",
     "text": [
      "===========\n",
      "Name :  MaxHR\n",
      "--------------\n"
     ]
    },
    {
     "data": {
      "image/png": "[encoded data removed]",
      "text/plain": [
       "<Figure size 432x288 with 1 Axes>"
      ]
     },
     "metadata": {
      "needs_background": "light"
     },
     "output_type": "display_data"
    }
   ],
   "source": [
    "print('Scatter plot w.r.t Oldpeak')\n",
    "for i in cont_col:\n",
    "    if i=='Oldpeak':\n",
    "        continue\n",
    "    print('===========')\n",
    "    print('Name : ',i)\n",
    "    print('--------------')\n",
    "    df.plot.scatter(x=i,y='Oldpeak')\n",
    "    plt.show()"
   ]
  },
  {
   "cell_type": "code",
   "execution_count": 39,
   "id": "16405fff",
   "metadata": {},
   "outputs": [],
   "source": [
    "#conclusion: no such visible relation between them "
   ]
  },
  {
   "cell_type": "markdown",
   "id": "4d2a9d2c",
   "metadata": {},
   "source": [
    "# Feature Engineer"
   ]
  },
  {
   "cell_type": "markdown",
   "id": "ccaf1970",
   "metadata": {},
   "source": [
    "### Feature selection"
   ]
  },
  {
   "cell_type": "code",
   "execution_count": null,
   "id": "7b330c24",
   "metadata": {},
   "outputs": [],
   "source": []
  },
  {
   "cell_type": "code",
   "execution_count": 40,
   "id": "e7e92ffe",
   "metadata": {},
   "outputs": [],
   "source": [
    "#use statistical test (hypothetical test)\n",
    "\n",
    "#consider null hypothesis: feature are not corr\n",
    "# p value is probability of null hypo being true\n",
    "\n",
    "#as our target var is cat\n",
    "#we perform\n",
    "\n",
    "#chi-square test : between cat & target \n",
    "#Annova test : between cont & target"
   ]
  },
  {
   "cell_type": "markdown",
   "id": "5b21bdb2",
   "metadata": {},
   "source": [
    "### ChiSqu Test"
   ]
  },
  {
   "cell_type": "code",
   "execution_count": 41,
   "id": "7c6fc9e7",
   "metadata": {},
   "outputs": [
    {
     "data": {
      "text/plain": [
       "['Sex', 'ChestPainType', 'FastingBS', 'ExerciseAngina', 'ST_Slope']"
      ]
     },
     "execution_count": 41,
     "metadata": {},
     "output_type": "execute_result"
    }
   ],
   "source": [
    "nom_col"
   ]
  },
  {
   "cell_type": "code",
   "execution_count": 42,
   "id": "8101fd51",
   "metadata": {},
   "outputs": [],
   "source": [
    "#before test we need to convert to all cat col by label encoder"
   ]
  },
  {
   "cell_type": "code",
   "execution_count": 43,
   "id": "7e224898",
   "metadata": {},
   "outputs": [],
   "source": [
    "from sklearn import preprocessing\n",
    " \n",
    "# label_encoder object knows how to understand word labels.\n",
    "label_encoder = preprocessing.LabelEncoder()\n",
    " \n",
    "# Encode labels in column 'species'.\n",
    "df['Sex']= label_encoder.fit_transform(df['Sex'])\n",
    "df['ChestPainType']= label_encoder.fit_transform(df['ChestPainType'])\n",
    "df['FastingBS']= label_encoder.fit_transform(df['FastingBS'])\n",
    "df['ExerciseAngina']= label_encoder.fit_transform(df['ExerciseAngina'])\n",
    "df['ST_Slope']= label_encoder.fit_transform(df['ST_Slope'])\n"
   ]
  },
  {
   "cell_type": "code",
   "execution_count": 44,
   "id": "24b5d58c",
   "metadata": {},
   "outputs": [
    {
     "data": {
      "text/plain": [
       "['Sex', 'ChestPainType', 'FastingBS', 'ExerciseAngina', 'ST_Slope']"
      ]
     },
     "execution_count": 44,
     "metadata": {},
     "output_type": "execute_result"
    }
   ],
   "source": [
    "nom_col"
   ]
  },
  {
   "cell_type": "code",
   "execution_count": 45,
   "id": "82239316",
   "metadata": {},
   "outputs": [
    {
     "name": "stdout",
     "output_type": "stream",
     "text": [
      "-----------------------------\n",
      "Name :  Sex p_val is : [2.2018168e-05]\n",
      "-----------------------------\n",
      "Name :  ChestPainType p_val is : [7.81000905e-37]\n",
      "-----------------------------\n",
      "Name :  FastingBS p_val is : [1.32152556e-12]\n",
      "-----------------------------\n",
      "Name :  ExerciseAngina p_val is : [6.549289e-31]\n",
      "-----------------------------\n",
      "Name :  ST_Slope p_val is : [1.33620549e-18]\n"
     ]
    }
   ],
   "source": [
    "from sklearn.feature_selection import chi2\n",
    "for i in nom_col:\n",
    "    print('-----------------------------')\n",
    "    chi2_val, p_val = chi2(np.array(df[i]).reshape(-1, 1), np.array(df['HeartDisease']).reshape(-1, 1))\n",
    "    print('Name : ',i,'p_val is :', p_val)"
   ]
  },
  {
   "cell_type": "code",
   "execution_count": 46,
   "id": "d7c7e36d",
   "metadata": {},
   "outputs": [],
   "source": [
    "#conclusion: as P values for all the nom col is less than 0.05 so null hyo rejected\n",
    "#alternative hypo accepted  for all cases"
   ]
  },
  {
   "cell_type": "markdown",
   "id": "12752556",
   "metadata": {},
   "source": [
    "### Annova Test"
   ]
  },
  {
   "cell_type": "code",
   "execution_count": 47,
   "id": "288ca28b",
   "metadata": {},
   "outputs": [
    {
     "data": {
      "text/plain": [
       "['Age', 'RestingBP', 'Cholesterol', 'MaxHR', 'Oldpeak']"
      ]
     },
     "execution_count": 47,
     "metadata": {},
     "output_type": "execute_result"
    }
   ],
   "source": [
    "cont_col"
   ]
  },
  {
   "cell_type": "code",
   "execution_count": 48,
   "id": "84021cf5",
   "metadata": {},
   "outputs": [
    {
     "name": "stdout",
     "output_type": "stream",
     "text": [
      "0.0\n"
     ]
    }
   ],
   "source": [
    "from scipy import stats\n",
    "f,p=stats.f_oneway(df['Cholesterol'],df['MaxHR'])\n",
    "print(p)"
   ]
  },
  {
   "cell_type": "markdown",
   "id": "53d2a9ab",
   "metadata": {},
   "source": [
    "### feature Scalling"
   ]
  },
  {
   "cell_type": "code",
   "execution_count": 49,
   "id": "b8c79c62",
   "metadata": {},
   "outputs": [
    {
     "data": {
      "text/plain": [
       "['Age', 'RestingBP', 'Cholesterol', 'MaxHR', 'Oldpeak']"
      ]
     },
     "execution_count": 49,
     "metadata": {},
     "output_type": "execute_result"
    }
   ],
   "source": [
    "cont_col"
   ]
  },
  {
   "cell_type": "code",
   "execution_count": 50,
   "id": "54bb3b34",
   "metadata": {},
   "outputs": [
    {
     "data": {
      "text/html": [
       "<div>\n",
       "<style scoped>\n",
       "    .dataframe tbody tr th:only-of-type {\n",
       "        vertical-align: middle;\n",
       "    }\n",
       "\n",
       "    .dataframe tbody tr th {\n",
       "        vertical-align: top;\n",
       "    }\n",
       "\n",
       "    .dataframe thead th {\n",
       "        text-align: right;\n",
       "    }\n",
       "</style>\n",
       "<table border=\"1\" class=\"dataframe\">\n",
       "  <thead>\n",
       "    <tr style=\"text-align: right;\">\n",
       "      <th></th>\n",
       "      <th>Age</th>\n",
       "      <th>Sex</th>\n",
       "      <th>ChestPainType</th>\n",
       "      <th>RestingBP</th>\n",
       "      <th>Cholesterol</th>\n",
       "      <th>FastingBS</th>\n",
       "      <th>RestingECG</th>\n",
       "      <th>MaxHR</th>\n",
       "      <th>ExerciseAngina</th>\n",
       "      <th>Oldpeak</th>\n",
       "      <th>ST_Slope</th>\n",
       "      <th>HeartDisease</th>\n",
       "    </tr>\n",
       "  </thead>\n",
       "  <tbody>\n",
       "    <tr>\n",
       "      <th>0</th>\n",
       "      <td>0.244898</td>\n",
       "      <td>1</td>\n",
       "      <td>1</td>\n",
       "      <td>0.70</td>\n",
       "      <td>0.479270</td>\n",
       "      <td>0</td>\n",
       "      <td>Normal</td>\n",
       "      <td>0.867559</td>\n",
       "      <td>0</td>\n",
       "      <td>0.295455</td>\n",
       "      <td>2</td>\n",
       "      <td>0</td>\n",
       "    </tr>\n",
       "    <tr>\n",
       "      <th>1</th>\n",
       "      <td>0.428571</td>\n",
       "      <td>0</td>\n",
       "      <td>2</td>\n",
       "      <td>0.80</td>\n",
       "      <td>0.298507</td>\n",
       "      <td>0</td>\n",
       "      <td>Normal</td>\n",
       "      <td>0.787127</td>\n",
       "      <td>0</td>\n",
       "      <td>0.409091</td>\n",
       "      <td>1</td>\n",
       "      <td>1</td>\n",
       "    </tr>\n",
       "    <tr>\n",
       "      <th>2</th>\n",
       "      <td>0.183673</td>\n",
       "      <td>1</td>\n",
       "      <td>1</td>\n",
       "      <td>0.65</td>\n",
       "      <td>0.469320</td>\n",
       "      <td>0</td>\n",
       "      <td>ST</td>\n",
       "      <td>0.404163</td>\n",
       "      <td>0</td>\n",
       "      <td>0.295455</td>\n",
       "      <td>2</td>\n",
       "      <td>0</td>\n",
       "    </tr>\n",
       "    <tr>\n",
       "      <th>3</th>\n",
       "      <td>0.408163</td>\n",
       "      <td>0</td>\n",
       "      <td>0</td>\n",
       "      <td>0.69</td>\n",
       "      <td>0.354892</td>\n",
       "      <td>0</td>\n",
       "      <td>Normal</td>\n",
       "      <td>0.484204</td>\n",
       "      <td>1</td>\n",
       "      <td>0.465909</td>\n",
       "      <td>1</td>\n",
       "      <td>1</td>\n",
       "    </tr>\n",
       "    <tr>\n",
       "      <th>4</th>\n",
       "      <td>0.530612</td>\n",
       "      <td>1</td>\n",
       "      <td>2</td>\n",
       "      <td>0.75</td>\n",
       "      <td>0.323383</td>\n",
       "      <td>0</td>\n",
       "      <td>Normal</td>\n",
       "      <td>0.584614</td>\n",
       "      <td>0</td>\n",
       "      <td>0.295455</td>\n",
       "      <td>2</td>\n",
       "      <td>0</td>\n",
       "    </tr>\n",
       "    <tr>\n",
       "      <th>...</th>\n",
       "      <td>...</td>\n",
       "      <td>...</td>\n",
       "      <td>...</td>\n",
       "      <td>...</td>\n",
       "      <td>...</td>\n",
       "      <td>...</td>\n",
       "      <td>...</td>\n",
       "      <td>...</td>\n",
       "      <td>...</td>\n",
       "      <td>...</td>\n",
       "      <td>...</td>\n",
       "      <td>...</td>\n",
       "    </tr>\n",
       "    <tr>\n",
       "      <th>913</th>\n",
       "      <td>0.346939</td>\n",
       "      <td>1</td>\n",
       "      <td>3</td>\n",
       "      <td>0.55</td>\n",
       "      <td>0.437811</td>\n",
       "      <td>0</td>\n",
       "      <td>Normal</td>\n",
       "      <td>0.649512</td>\n",
       "      <td>0</td>\n",
       "      <td>0.431818</td>\n",
       "      <td>1</td>\n",
       "      <td>1</td>\n",
       "    </tr>\n",
       "    <tr>\n",
       "      <th>914</th>\n",
       "      <td>0.816327</td>\n",
       "      <td>1</td>\n",
       "      <td>0</td>\n",
       "      <td>0.72</td>\n",
       "      <td>0.320066</td>\n",
       "      <td>1</td>\n",
       "      <td>Normal</td>\n",
       "      <td>0.703846</td>\n",
       "      <td>0</td>\n",
       "      <td>0.681818</td>\n",
       "      <td>1</td>\n",
       "      <td>1</td>\n",
       "    </tr>\n",
       "    <tr>\n",
       "      <th>915</th>\n",
       "      <td>0.591837</td>\n",
       "      <td>1</td>\n",
       "      <td>0</td>\n",
       "      <td>0.65</td>\n",
       "      <td>0.217247</td>\n",
       "      <td>0</td>\n",
       "      <td>Normal</td>\n",
       "      <td>0.535938</td>\n",
       "      <td>1</td>\n",
       "      <td>0.431818</td>\n",
       "      <td>1</td>\n",
       "      <td>1</td>\n",
       "    </tr>\n",
       "    <tr>\n",
       "      <th>916</th>\n",
       "      <td>0.591837</td>\n",
       "      <td>0</td>\n",
       "      <td>1</td>\n",
       "      <td>0.65</td>\n",
       "      <td>0.391376</td>\n",
       "      <td>0</td>\n",
       "      <td>LVH</td>\n",
       "      <td>0.877082</td>\n",
       "      <td>0</td>\n",
       "      <td>0.295455</td>\n",
       "      <td>1</td>\n",
       "      <td>1</td>\n",
       "    </tr>\n",
       "    <tr>\n",
       "      <th>917</th>\n",
       "      <td>0.204082</td>\n",
       "      <td>1</td>\n",
       "      <td>2</td>\n",
       "      <td>0.69</td>\n",
       "      <td>0.290216</td>\n",
       "      <td>0</td>\n",
       "      <td>Normal</td>\n",
       "      <td>0.872335</td>\n",
       "      <td>0</td>\n",
       "      <td>0.295455</td>\n",
       "      <td>2</td>\n",
       "      <td>0</td>\n",
       "    </tr>\n",
       "  </tbody>\n",
       "</table>\n",
       "<p>918 rows × 12 columns</p>\n",
       "</div>"
      ],
      "text/plain": [
       "          Age  Sex  ChestPainType  RestingBP  Cholesterol  FastingBS  \\\n",
       "0    0.244898    1              1       0.70     0.479270          0   \n",
       "1    0.428571    0              2       0.80     0.298507          0   \n",
       "2    0.183673    1              1       0.65     0.469320          0   \n",
       "3    0.408163    0              0       0.69     0.354892          0   \n",
       "4    0.530612    1              2       0.75     0.323383          0   \n",
       "..        ...  ...            ...        ...          ...        ...   \n",
       "913  0.346939    1              3       0.55     0.437811          0   \n",
       "914  0.816327    1              0       0.72     0.320066          1   \n",
       "915  0.591837    1              0       0.65     0.217247          0   \n",
       "916  0.591837    0              1       0.65     0.391376          0   \n",
       "917  0.204082    1              2       0.69     0.290216          0   \n",
       "\n",
       "    RestingECG     MaxHR  ExerciseAngina   Oldpeak  ST_Slope  HeartDisease  \n",
       "0       Normal  0.867559               0  0.295455         2             0  \n",
       "1       Normal  0.787127               0  0.409091         1             1  \n",
       "2           ST  0.404163               0  0.295455         2             0  \n",
       "3       Normal  0.484204               1  0.465909         1             1  \n",
       "4       Normal  0.584614               0  0.295455         2             0  \n",
       "..         ...       ...             ...       ...       ...           ...  \n",
       "913     Normal  0.649512               0  0.431818         1             1  \n",
       "914     Normal  0.703846               0  0.681818         1             1  \n",
       "915     Normal  0.535938               1  0.431818         1             1  \n",
       "916        LVH  0.877082               0  0.295455         1             1  \n",
       "917     Normal  0.872335               0  0.295455         2             0  \n",
       "\n",
       "[918 rows x 12 columns]"
      ]
     },
     "execution_count": 50,
     "metadata": {},
     "output_type": "execute_result"
    }
   ],
   "source": [
    "from sklearn.preprocessing import MinMaxScaler\n",
    "\n",
    "minmax=MinMaxScaler()\n",
    "df1=minmax.fit_transform(df[['Age', 'RestingBP', 'Cholesterol', 'MaxHR', 'Oldpeak']])\n",
    "\n",
    "df2=pd.DataFrame(data=df1,columns=['Age', 'RestingBP', 'Cholesterol', 'MaxHR', 'Oldpeak'])\n",
    "df2\n",
    "\n",
    "#doining changes in main df file\n",
    "\n",
    "df['Age']=df2['Age']\n",
    "df['RestingBP']=df2['RestingBP']\n",
    "df['Cholesterol']=df2['Cholesterol']\n",
    "df['MaxHR']=df2['MaxHR']\n",
    "df['Oldpeak']=df2['Oldpeak']\n",
    "df"
   ]
  },
  {
   "cell_type": "code",
   "execution_count": 51,
   "id": "a06bf325",
   "metadata": {},
   "outputs": [
    {
     "data": {
      "text/html": [
       "<div>\n",
       "<style scoped>\n",
       "    .dataframe tbody tr th:only-of-type {\n",
       "        vertical-align: middle;\n",
       "    }\n",
       "\n",
       "    .dataframe tbody tr th {\n",
       "        vertical-align: top;\n",
       "    }\n",
       "\n",
       "    .dataframe thead th {\n",
       "        text-align: right;\n",
       "    }\n",
       "</style>\n",
       "<table border=\"1\" class=\"dataframe\">\n",
       "  <thead>\n",
       "    <tr style=\"text-align: right;\">\n",
       "      <th></th>\n",
       "      <th>Age</th>\n",
       "      <th>Sex</th>\n",
       "      <th>ChestPainType</th>\n",
       "      <th>RestingBP</th>\n",
       "      <th>Cholesterol</th>\n",
       "      <th>FastingBS</th>\n",
       "      <th>RestingECG</th>\n",
       "      <th>MaxHR</th>\n",
       "      <th>ExerciseAngina</th>\n",
       "      <th>Oldpeak</th>\n",
       "      <th>ST_Slope</th>\n",
       "      <th>HeartDisease</th>\n",
       "    </tr>\n",
       "  </thead>\n",
       "  <tbody>\n",
       "    <tr>\n",
       "      <th>0</th>\n",
       "      <td>0.244898</td>\n",
       "      <td>1</td>\n",
       "      <td>1</td>\n",
       "      <td>0.70</td>\n",
       "      <td>0.479270</td>\n",
       "      <td>0</td>\n",
       "      <td>Normal</td>\n",
       "      <td>0.867559</td>\n",
       "      <td>0</td>\n",
       "      <td>0.295455</td>\n",
       "      <td>2</td>\n",
       "      <td>0</td>\n",
       "    </tr>\n",
       "    <tr>\n",
       "      <th>1</th>\n",
       "      <td>0.428571</td>\n",
       "      <td>0</td>\n",
       "      <td>2</td>\n",
       "      <td>0.80</td>\n",
       "      <td>0.298507</td>\n",
       "      <td>0</td>\n",
       "      <td>Normal</td>\n",
       "      <td>0.787127</td>\n",
       "      <td>0</td>\n",
       "      <td>0.409091</td>\n",
       "      <td>1</td>\n",
       "      <td>1</td>\n",
       "    </tr>\n",
       "    <tr>\n",
       "      <th>2</th>\n",
       "      <td>0.183673</td>\n",
       "      <td>1</td>\n",
       "      <td>1</td>\n",
       "      <td>0.65</td>\n",
       "      <td>0.469320</td>\n",
       "      <td>0</td>\n",
       "      <td>ST</td>\n",
       "      <td>0.404163</td>\n",
       "      <td>0</td>\n",
       "      <td>0.295455</td>\n",
       "      <td>2</td>\n",
       "      <td>0</td>\n",
       "    </tr>\n",
       "    <tr>\n",
       "      <th>3</th>\n",
       "      <td>0.408163</td>\n",
       "      <td>0</td>\n",
       "      <td>0</td>\n",
       "      <td>0.69</td>\n",
       "      <td>0.354892</td>\n",
       "      <td>0</td>\n",
       "      <td>Normal</td>\n",
       "      <td>0.484204</td>\n",
       "      <td>1</td>\n",
       "      <td>0.465909</td>\n",
       "      <td>1</td>\n",
       "      <td>1</td>\n",
       "    </tr>\n",
       "    <tr>\n",
       "      <th>4</th>\n",
       "      <td>0.530612</td>\n",
       "      <td>1</td>\n",
       "      <td>2</td>\n",
       "      <td>0.75</td>\n",
       "      <td>0.323383</td>\n",
       "      <td>0</td>\n",
       "      <td>Normal</td>\n",
       "      <td>0.584614</td>\n",
       "      <td>0</td>\n",
       "      <td>0.295455</td>\n",
       "      <td>2</td>\n",
       "      <td>0</td>\n",
       "    </tr>\n",
       "    <tr>\n",
       "      <th>...</th>\n",
       "      <td>...</td>\n",
       "      <td>...</td>\n",
       "      <td>...</td>\n",
       "      <td>...</td>\n",
       "      <td>...</td>\n",
       "      <td>...</td>\n",
       "      <td>...</td>\n",
       "      <td>...</td>\n",
       "      <td>...</td>\n",
       "      <td>...</td>\n",
       "      <td>...</td>\n",
       "      <td>...</td>\n",
       "    </tr>\n",
       "    <tr>\n",
       "      <th>913</th>\n",
       "      <td>0.346939</td>\n",
       "      <td>1</td>\n",
       "      <td>3</td>\n",
       "      <td>0.55</td>\n",
       "      <td>0.437811</td>\n",
       "      <td>0</td>\n",
       "      <td>Normal</td>\n",
       "      <td>0.649512</td>\n",
       "      <td>0</td>\n",
       "      <td>0.431818</td>\n",
       "      <td>1</td>\n",
       "      <td>1</td>\n",
       "    </tr>\n",
       "    <tr>\n",
       "      <th>914</th>\n",
       "      <td>0.816327</td>\n",
       "      <td>1</td>\n",
       "      <td>0</td>\n",
       "      <td>0.72</td>\n",
       "      <td>0.320066</td>\n",
       "      <td>1</td>\n",
       "      <td>Normal</td>\n",
       "      <td>0.703846</td>\n",
       "      <td>0</td>\n",
       "      <td>0.681818</td>\n",
       "      <td>1</td>\n",
       "      <td>1</td>\n",
       "    </tr>\n",
       "    <tr>\n",
       "      <th>915</th>\n",
       "      <td>0.591837</td>\n",
       "      <td>1</td>\n",
       "      <td>0</td>\n",
       "      <td>0.65</td>\n",
       "      <td>0.217247</td>\n",
       "      <td>0</td>\n",
       "      <td>Normal</td>\n",
       "      <td>0.535938</td>\n",
       "      <td>1</td>\n",
       "      <td>0.431818</td>\n",
       "      <td>1</td>\n",
       "      <td>1</td>\n",
       "    </tr>\n",
       "    <tr>\n",
       "      <th>916</th>\n",
       "      <td>0.591837</td>\n",
       "      <td>0</td>\n",
       "      <td>1</td>\n",
       "      <td>0.65</td>\n",
       "      <td>0.391376</td>\n",
       "      <td>0</td>\n",
       "      <td>LVH</td>\n",
       "      <td>0.877082</td>\n",
       "      <td>0</td>\n",
       "      <td>0.295455</td>\n",
       "      <td>1</td>\n",
       "      <td>1</td>\n",
       "    </tr>\n",
       "    <tr>\n",
       "      <th>917</th>\n",
       "      <td>0.204082</td>\n",
       "      <td>1</td>\n",
       "      <td>2</td>\n",
       "      <td>0.69</td>\n",
       "      <td>0.290216</td>\n",
       "      <td>0</td>\n",
       "      <td>Normal</td>\n",
       "      <td>0.872335</td>\n",
       "      <td>0</td>\n",
       "      <td>0.295455</td>\n",
       "      <td>2</td>\n",
       "      <td>0</td>\n",
       "    </tr>\n",
       "  </tbody>\n",
       "</table>\n",
       "<p>918 rows × 12 columns</p>\n",
       "</div>"
      ],
      "text/plain": [
       "          Age  Sex  ChestPainType  RestingBP  Cholesterol  FastingBS  \\\n",
       "0    0.244898    1              1       0.70     0.479270          0   \n",
       "1    0.428571    0              2       0.80     0.298507          0   \n",
       "2    0.183673    1              1       0.65     0.469320          0   \n",
       "3    0.408163    0              0       0.69     0.354892          0   \n",
       "4    0.530612    1              2       0.75     0.323383          0   \n",
       "..        ...  ...            ...        ...          ...        ...   \n",
       "913  0.346939    1              3       0.55     0.437811          0   \n",
       "914  0.816327    1              0       0.72     0.320066          1   \n",
       "915  0.591837    1              0       0.65     0.217247          0   \n",
       "916  0.591837    0              1       0.65     0.391376          0   \n",
       "917  0.204082    1              2       0.69     0.290216          0   \n",
       "\n",
       "    RestingECG     MaxHR  ExerciseAngina   Oldpeak  ST_Slope  HeartDisease  \n",
       "0       Normal  0.867559               0  0.295455         2             0  \n",
       "1       Normal  0.787127               0  0.409091         1             1  \n",
       "2           ST  0.404163               0  0.295455         2             0  \n",
       "3       Normal  0.484204               1  0.465909         1             1  \n",
       "4       Normal  0.584614               0  0.295455         2             0  \n",
       "..         ...       ...             ...       ...       ...           ...  \n",
       "913     Normal  0.649512               0  0.431818         1             1  \n",
       "914     Normal  0.703846               0  0.681818         1             1  \n",
       "915     Normal  0.535938               1  0.431818         1             1  \n",
       "916        LVH  0.877082               0  0.295455         1             1  \n",
       "917     Normal  0.872335               0  0.295455         2             0  \n",
       "\n",
       "[918 rows x 12 columns]"
      ]
     },
     "execution_count": 51,
     "metadata": {},
     "output_type": "execute_result"
    }
   ],
   "source": [
    "df\n"
   ]
  },
  {
   "cell_type": "code",
   "execution_count": null,
   "id": "2eb29f3a",
   "metadata": {},
   "outputs": [],
   "source": []
  },
  {
   "cell_type": "code",
   "execution_count": 52,
   "id": "762af8ca",
   "metadata": {},
   "outputs": [],
   "source": [
    "#labelling for Ordinal col\n"
   ]
  },
  {
   "cell_type": "code",
   "execution_count": 53,
   "id": "d6f8812a",
   "metadata": {},
   "outputs": [
    {
     "data": {
      "text/html": [
       "<div>\n",
       "<style scoped>\n",
       "    .dataframe tbody tr th:only-of-type {\n",
       "        vertical-align: middle;\n",
       "    }\n",
       "\n",
       "    .dataframe tbody tr th {\n",
       "        vertical-align: top;\n",
       "    }\n",
       "\n",
       "    .dataframe thead th {\n",
       "        text-align: right;\n",
       "    }\n",
       "</style>\n",
       "<table border=\"1\" class=\"dataframe\">\n",
       "  <thead>\n",
       "    <tr style=\"text-align: right;\">\n",
       "      <th></th>\n",
       "      <th>Age</th>\n",
       "      <th>Sex</th>\n",
       "      <th>ChestPainType</th>\n",
       "      <th>RestingBP</th>\n",
       "      <th>Cholesterol</th>\n",
       "      <th>FastingBS</th>\n",
       "      <th>RestingECG</th>\n",
       "      <th>MaxHR</th>\n",
       "      <th>ExerciseAngina</th>\n",
       "      <th>Oldpeak</th>\n",
       "      <th>ST_Slope</th>\n",
       "      <th>HeartDisease</th>\n",
       "    </tr>\n",
       "  </thead>\n",
       "  <tbody>\n",
       "    <tr>\n",
       "      <th>0</th>\n",
       "      <td>0.244898</td>\n",
       "      <td>1</td>\n",
       "      <td>1</td>\n",
       "      <td>0.70</td>\n",
       "      <td>0.479270</td>\n",
       "      <td>0</td>\n",
       "      <td>0</td>\n",
       "      <td>0.867559</td>\n",
       "      <td>0</td>\n",
       "      <td>0.295455</td>\n",
       "      <td>2</td>\n",
       "      <td>0</td>\n",
       "    </tr>\n",
       "    <tr>\n",
       "      <th>1</th>\n",
       "      <td>0.428571</td>\n",
       "      <td>0</td>\n",
       "      <td>2</td>\n",
       "      <td>0.80</td>\n",
       "      <td>0.298507</td>\n",
       "      <td>0</td>\n",
       "      <td>0</td>\n",
       "      <td>0.787127</td>\n",
       "      <td>0</td>\n",
       "      <td>0.409091</td>\n",
       "      <td>1</td>\n",
       "      <td>1</td>\n",
       "    </tr>\n",
       "    <tr>\n",
       "      <th>2</th>\n",
       "      <td>0.183673</td>\n",
       "      <td>1</td>\n",
       "      <td>1</td>\n",
       "      <td>0.65</td>\n",
       "      <td>0.469320</td>\n",
       "      <td>0</td>\n",
       "      <td>1</td>\n",
       "      <td>0.404163</td>\n",
       "      <td>0</td>\n",
       "      <td>0.295455</td>\n",
       "      <td>2</td>\n",
       "      <td>0</td>\n",
       "    </tr>\n",
       "    <tr>\n",
       "      <th>3</th>\n",
       "      <td>0.408163</td>\n",
       "      <td>0</td>\n",
       "      <td>0</td>\n",
       "      <td>0.69</td>\n",
       "      <td>0.354892</td>\n",
       "      <td>0</td>\n",
       "      <td>0</td>\n",
       "      <td>0.484204</td>\n",
       "      <td>1</td>\n",
       "      <td>0.465909</td>\n",
       "      <td>1</td>\n",
       "      <td>1</td>\n",
       "    </tr>\n",
       "    <tr>\n",
       "      <th>4</th>\n",
       "      <td>0.530612</td>\n",
       "      <td>1</td>\n",
       "      <td>2</td>\n",
       "      <td>0.75</td>\n",
       "      <td>0.323383</td>\n",
       "      <td>0</td>\n",
       "      <td>0</td>\n",
       "      <td>0.584614</td>\n",
       "      <td>0</td>\n",
       "      <td>0.295455</td>\n",
       "      <td>2</td>\n",
       "      <td>0</td>\n",
       "    </tr>\n",
       "    <tr>\n",
       "      <th>...</th>\n",
       "      <td>...</td>\n",
       "      <td>...</td>\n",
       "      <td>...</td>\n",
       "      <td>...</td>\n",
       "      <td>...</td>\n",
       "      <td>...</td>\n",
       "      <td>...</td>\n",
       "      <td>...</td>\n",
       "      <td>...</td>\n",
       "      <td>...</td>\n",
       "      <td>...</td>\n",
       "      <td>...</td>\n",
       "    </tr>\n",
       "    <tr>\n",
       "      <th>913</th>\n",
       "      <td>0.346939</td>\n",
       "      <td>1</td>\n",
       "      <td>3</td>\n",
       "      <td>0.55</td>\n",
       "      <td>0.437811</td>\n",
       "      <td>0</td>\n",
       "      <td>0</td>\n",
       "      <td>0.649512</td>\n",
       "      <td>0</td>\n",
       "      <td>0.431818</td>\n",
       "      <td>1</td>\n",
       "      <td>1</td>\n",
       "    </tr>\n",
       "    <tr>\n",
       "      <th>914</th>\n",
       "      <td>0.816327</td>\n",
       "      <td>1</td>\n",
       "      <td>0</td>\n",
       "      <td>0.72</td>\n",
       "      <td>0.320066</td>\n",
       "      <td>1</td>\n",
       "      <td>0</td>\n",
       "      <td>0.703846</td>\n",
       "      <td>0</td>\n",
       "      <td>0.681818</td>\n",
       "      <td>1</td>\n",
       "      <td>1</td>\n",
       "    </tr>\n",
       "    <tr>\n",
       "      <th>915</th>\n",
       "      <td>0.591837</td>\n",
       "      <td>1</td>\n",
       "      <td>0</td>\n",
       "      <td>0.65</td>\n",
       "      <td>0.217247</td>\n",
       "      <td>0</td>\n",
       "      <td>0</td>\n",
       "      <td>0.535938</td>\n",
       "      <td>1</td>\n",
       "      <td>0.431818</td>\n",
       "      <td>1</td>\n",
       "      <td>1</td>\n",
       "    </tr>\n",
       "    <tr>\n",
       "      <th>916</th>\n",
       "      <td>0.591837</td>\n",
       "      <td>0</td>\n",
       "      <td>1</td>\n",
       "      <td>0.65</td>\n",
       "      <td>0.391376</td>\n",
       "      <td>0</td>\n",
       "      <td>2</td>\n",
       "      <td>0.877082</td>\n",
       "      <td>0</td>\n",
       "      <td>0.295455</td>\n",
       "      <td>1</td>\n",
       "      <td>1</td>\n",
       "    </tr>\n",
       "    <tr>\n",
       "      <th>917</th>\n",
       "      <td>0.204082</td>\n",
       "      <td>1</td>\n",
       "      <td>2</td>\n",
       "      <td>0.69</td>\n",
       "      <td>0.290216</td>\n",
       "      <td>0</td>\n",
       "      <td>0</td>\n",
       "      <td>0.872335</td>\n",
       "      <td>0</td>\n",
       "      <td>0.295455</td>\n",
       "      <td>2</td>\n",
       "      <td>0</td>\n",
       "    </tr>\n",
       "  </tbody>\n",
       "</table>\n",
       "<p>918 rows × 12 columns</p>\n",
       "</div>"
      ],
      "text/plain": [
       "          Age  Sex  ChestPainType  RestingBP  Cholesterol  FastingBS  \\\n",
       "0    0.244898    1              1       0.70     0.479270          0   \n",
       "1    0.428571    0              2       0.80     0.298507          0   \n",
       "2    0.183673    1              1       0.65     0.469320          0   \n",
       "3    0.408163    0              0       0.69     0.354892          0   \n",
       "4    0.530612    1              2       0.75     0.323383          0   \n",
       "..        ...  ...            ...        ...          ...        ...   \n",
       "913  0.346939    1              3       0.55     0.437811          0   \n",
       "914  0.816327    1              0       0.72     0.320066          1   \n",
       "915  0.591837    1              0       0.65     0.217247          0   \n",
       "916  0.591837    0              1       0.65     0.391376          0   \n",
       "917  0.204082    1              2       0.69     0.290216          0   \n",
       "\n",
       "    RestingECG     MaxHR  ExerciseAngina   Oldpeak  ST_Slope  HeartDisease  \n",
       "0            0  0.867559               0  0.295455         2             0  \n",
       "1            0  0.787127               0  0.409091         1             1  \n",
       "2            1  0.404163               0  0.295455         2             0  \n",
       "3            0  0.484204               1  0.465909         1             1  \n",
       "4            0  0.584614               0  0.295455         2             0  \n",
       "..         ...       ...             ...       ...       ...           ...  \n",
       "913          0  0.649512               0  0.431818         1             1  \n",
       "914          0  0.703846               0  0.681818         1             1  \n",
       "915          0  0.535938               1  0.431818         1             1  \n",
       "916          2  0.877082               0  0.295455         1             1  \n",
       "917          0  0.872335               0  0.295455         2             0  \n",
       "\n",
       "[918 rows x 12 columns]"
      ]
     },
     "execution_count": 53,
     "metadata": {},
     "output_type": "execute_result"
    }
   ],
   "source": [
    "df.loc[df['RestingECG']=='Normal',['RestingECG']]=0\n",
    "df.loc[df['RestingECG']=='ST',['RestingECG']]=1\n",
    "df.loc[df['RestingECG']=='LVH',['RestingECG']]=2\n",
    "df"
   ]
  },
  {
   "cell_type": "code",
   "execution_count": 54,
   "id": "d5113c28",
   "metadata": {},
   "outputs": [
    {
     "data": {
      "text/html": [
       "<div>\n",
       "<style scoped>\n",
       "    .dataframe tbody tr th:only-of-type {\n",
       "        vertical-align: middle;\n",
       "    }\n",
       "\n",
       "    .dataframe tbody tr th {\n",
       "        vertical-align: top;\n",
       "    }\n",
       "\n",
       "    .dataframe thead th {\n",
       "        text-align: right;\n",
       "    }\n",
       "</style>\n",
       "<table border=\"1\" class=\"dataframe\">\n",
       "  <thead>\n",
       "    <tr style=\"text-align: right;\">\n",
       "      <th></th>\n",
       "      <th>Age</th>\n",
       "      <th>Sex</th>\n",
       "      <th>ChestPainType</th>\n",
       "      <th>RestingBP</th>\n",
       "      <th>Cholesterol</th>\n",
       "      <th>FastingBS</th>\n",
       "      <th>RestingECG</th>\n",
       "      <th>MaxHR</th>\n",
       "      <th>ExerciseAngina</th>\n",
       "      <th>Oldpeak</th>\n",
       "      <th>ST_Slope</th>\n",
       "      <th>HeartDisease</th>\n",
       "    </tr>\n",
       "  </thead>\n",
       "  <tbody>\n",
       "    <tr>\n",
       "      <th>0</th>\n",
       "      <td>0.244898</td>\n",
       "      <td>1</td>\n",
       "      <td>1</td>\n",
       "      <td>0.70</td>\n",
       "      <td>0.479270</td>\n",
       "      <td>0</td>\n",
       "      <td>0.0</td>\n",
       "      <td>0.867559</td>\n",
       "      <td>0</td>\n",
       "      <td>0.295455</td>\n",
       "      <td>2</td>\n",
       "      <td>0</td>\n",
       "    </tr>\n",
       "    <tr>\n",
       "      <th>1</th>\n",
       "      <td>0.428571</td>\n",
       "      <td>0</td>\n",
       "      <td>2</td>\n",
       "      <td>0.80</td>\n",
       "      <td>0.298507</td>\n",
       "      <td>0</td>\n",
       "      <td>0.0</td>\n",
       "      <td>0.787127</td>\n",
       "      <td>0</td>\n",
       "      <td>0.409091</td>\n",
       "      <td>1</td>\n",
       "      <td>1</td>\n",
       "    </tr>\n",
       "    <tr>\n",
       "      <th>2</th>\n",
       "      <td>0.183673</td>\n",
       "      <td>1</td>\n",
       "      <td>1</td>\n",
       "      <td>0.65</td>\n",
       "      <td>0.469320</td>\n",
       "      <td>0</td>\n",
       "      <td>0.5</td>\n",
       "      <td>0.404163</td>\n",
       "      <td>0</td>\n",
       "      <td>0.295455</td>\n",
       "      <td>2</td>\n",
       "      <td>0</td>\n",
       "    </tr>\n",
       "    <tr>\n",
       "      <th>3</th>\n",
       "      <td>0.408163</td>\n",
       "      <td>0</td>\n",
       "      <td>0</td>\n",
       "      <td>0.69</td>\n",
       "      <td>0.354892</td>\n",
       "      <td>0</td>\n",
       "      <td>0.0</td>\n",
       "      <td>0.484204</td>\n",
       "      <td>1</td>\n",
       "      <td>0.465909</td>\n",
       "      <td>1</td>\n",
       "      <td>1</td>\n",
       "    </tr>\n",
       "    <tr>\n",
       "      <th>4</th>\n",
       "      <td>0.530612</td>\n",
       "      <td>1</td>\n",
       "      <td>2</td>\n",
       "      <td>0.75</td>\n",
       "      <td>0.323383</td>\n",
       "      <td>0</td>\n",
       "      <td>0.0</td>\n",
       "      <td>0.584614</td>\n",
       "      <td>0</td>\n",
       "      <td>0.295455</td>\n",
       "      <td>2</td>\n",
       "      <td>0</td>\n",
       "    </tr>\n",
       "    <tr>\n",
       "      <th>...</th>\n",
       "      <td>...</td>\n",
       "      <td>...</td>\n",
       "      <td>...</td>\n",
       "      <td>...</td>\n",
       "      <td>...</td>\n",
       "      <td>...</td>\n",
       "      <td>...</td>\n",
       "      <td>...</td>\n",
       "      <td>...</td>\n",
       "      <td>...</td>\n",
       "      <td>...</td>\n",
       "      <td>...</td>\n",
       "    </tr>\n",
       "    <tr>\n",
       "      <th>913</th>\n",
       "      <td>0.346939</td>\n",
       "      <td>1</td>\n",
       "      <td>3</td>\n",
       "      <td>0.55</td>\n",
       "      <td>0.437811</td>\n",
       "      <td>0</td>\n",
       "      <td>0.0</td>\n",
       "      <td>0.649512</td>\n",
       "      <td>0</td>\n",
       "      <td>0.431818</td>\n",
       "      <td>1</td>\n",
       "      <td>1</td>\n",
       "    </tr>\n",
       "    <tr>\n",
       "      <th>914</th>\n",
       "      <td>0.816327</td>\n",
       "      <td>1</td>\n",
       "      <td>0</td>\n",
       "      <td>0.72</td>\n",
       "      <td>0.320066</td>\n",
       "      <td>1</td>\n",
       "      <td>0.0</td>\n",
       "      <td>0.703846</td>\n",
       "      <td>0</td>\n",
       "      <td>0.681818</td>\n",
       "      <td>1</td>\n",
       "      <td>1</td>\n",
       "    </tr>\n",
       "    <tr>\n",
       "      <th>915</th>\n",
       "      <td>0.591837</td>\n",
       "      <td>1</td>\n",
       "      <td>0</td>\n",
       "      <td>0.65</td>\n",
       "      <td>0.217247</td>\n",
       "      <td>0</td>\n",
       "      <td>0.0</td>\n",
       "      <td>0.535938</td>\n",
       "      <td>1</td>\n",
       "      <td>0.431818</td>\n",
       "      <td>1</td>\n",
       "      <td>1</td>\n",
       "    </tr>\n",
       "    <tr>\n",
       "      <th>916</th>\n",
       "      <td>0.591837</td>\n",
       "      <td>0</td>\n",
       "      <td>1</td>\n",
       "      <td>0.65</td>\n",
       "      <td>0.391376</td>\n",
       "      <td>0</td>\n",
       "      <td>1.0</td>\n",
       "      <td>0.877082</td>\n",
       "      <td>0</td>\n",
       "      <td>0.295455</td>\n",
       "      <td>1</td>\n",
       "      <td>1</td>\n",
       "    </tr>\n",
       "    <tr>\n",
       "      <th>917</th>\n",
       "      <td>0.204082</td>\n",
       "      <td>1</td>\n",
       "      <td>2</td>\n",
       "      <td>0.69</td>\n",
       "      <td>0.290216</td>\n",
       "      <td>0</td>\n",
       "      <td>0.0</td>\n",
       "      <td>0.872335</td>\n",
       "      <td>0</td>\n",
       "      <td>0.295455</td>\n",
       "      <td>2</td>\n",
       "      <td>0</td>\n",
       "    </tr>\n",
       "  </tbody>\n",
       "</table>\n",
       "<p>918 rows × 12 columns</p>\n",
       "</div>"
      ],
      "text/plain": [
       "          Age  Sex  ChestPainType  RestingBP  Cholesterol  FastingBS  \\\n",
       "0    0.244898    1              1       0.70     0.479270          0   \n",
       "1    0.428571    0              2       0.80     0.298507          0   \n",
       "2    0.183673    1              1       0.65     0.469320          0   \n",
       "3    0.408163    0              0       0.69     0.354892          0   \n",
       "4    0.530612    1              2       0.75     0.323383          0   \n",
       "..        ...  ...            ...        ...          ...        ...   \n",
       "913  0.346939    1              3       0.55     0.437811          0   \n",
       "914  0.816327    1              0       0.72     0.320066          1   \n",
       "915  0.591837    1              0       0.65     0.217247          0   \n",
       "916  0.591837    0              1       0.65     0.391376          0   \n",
       "917  0.204082    1              2       0.69     0.290216          0   \n",
       "\n",
       "     RestingECG     MaxHR  ExerciseAngina   Oldpeak  ST_Slope  HeartDisease  \n",
       "0           0.0  0.867559               0  0.295455         2             0  \n",
       "1           0.0  0.787127               0  0.409091         1             1  \n",
       "2           0.5  0.404163               0  0.295455         2             0  \n",
       "3           0.0  0.484204               1  0.465909         1             1  \n",
       "4           0.0  0.584614               0  0.295455         2             0  \n",
       "..          ...       ...             ...       ...       ...           ...  \n",
       "913         0.0  0.649512               0  0.431818         1             1  \n",
       "914         0.0  0.703846               0  0.681818         1             1  \n",
       "915         0.0  0.535938               1  0.431818         1             1  \n",
       "916         1.0  0.877082               0  0.295455         1             1  \n",
       "917         0.0  0.872335               0  0.295455         2             0  \n",
       "\n",
       "[918 rows x 12 columns]"
      ]
     },
     "execution_count": 54,
     "metadata": {},
     "output_type": "execute_result"
    }
   ],
   "source": [
    "#scalling of ordinal col\n",
    "\n",
    "df1=minmax.fit_transform(df[['Age', 'RestingECG']])\n",
    "\n",
    "df2=pd.DataFrame(data=df1,columns=['Age', 'RestingECG'])\n",
    "df2\n",
    "\n",
    "#doining changes in main df file\n",
    "\n",
    "df['RestingECG']=df2['RestingECG']\n",
    "df"
   ]
  },
  {
   "cell_type": "code",
   "execution_count": 55,
   "id": "d1b501d0",
   "metadata": {},
   "outputs": [],
   "source": [
    "#all cols are ready after scalling"
   ]
  },
  {
   "cell_type": "code",
   "execution_count": 56,
   "id": "6fb17d23",
   "metadata": {},
   "outputs": [],
   "source": [
    "#doing one encoding for nom col of unique value more than 2\n",
    "\n",
    "df = pd.get_dummies(data=df, columns = ['ChestPainType','ST_Slope'])\n"
   ]
  },
  {
   "cell_type": "code",
   "execution_count": 57,
   "id": "4d0b7e65",
   "metadata": {},
   "outputs": [
    {
     "data": {
      "text/html": [
       "<div>\n",
       "<style scoped>\n",
       "    .dataframe tbody tr th:only-of-type {\n",
       "        vertical-align: middle;\n",
       "    }\n",
       "\n",
       "    .dataframe tbody tr th {\n",
       "        vertical-align: top;\n",
       "    }\n",
       "\n",
       "    .dataframe thead th {\n",
       "        text-align: right;\n",
       "    }\n",
       "</style>\n",
       "<table border=\"1\" class=\"dataframe\">\n",
       "  <thead>\n",
       "    <tr style=\"text-align: right;\">\n",
       "      <th></th>\n",
       "      <th>Age</th>\n",
       "      <th>Sex</th>\n",
       "      <th>RestingBP</th>\n",
       "      <th>Cholesterol</th>\n",
       "      <th>FastingBS</th>\n",
       "      <th>RestingECG</th>\n",
       "      <th>MaxHR</th>\n",
       "      <th>ExerciseAngina</th>\n",
       "      <th>Oldpeak</th>\n",
       "      <th>HeartDisease</th>\n",
       "      <th>ChestPainType_0</th>\n",
       "      <th>ChestPainType_1</th>\n",
       "      <th>ChestPainType_2</th>\n",
       "      <th>ChestPainType_3</th>\n",
       "      <th>ST_Slope_0</th>\n",
       "      <th>ST_Slope_1</th>\n",
       "      <th>ST_Slope_2</th>\n",
       "    </tr>\n",
       "  </thead>\n",
       "  <tbody>\n",
       "    <tr>\n",
       "      <th>0</th>\n",
       "      <td>0.244898</td>\n",
       "      <td>1</td>\n",
       "      <td>0.70</td>\n",
       "      <td>0.479270</td>\n",
       "      <td>0</td>\n",
       "      <td>0.0</td>\n",
       "      <td>0.867559</td>\n",
       "      <td>0</td>\n",
       "      <td>0.295455</td>\n",
       "      <td>0</td>\n",
       "      <td>0</td>\n",
       "      <td>1</td>\n",
       "      <td>0</td>\n",
       "      <td>0</td>\n",
       "      <td>0</td>\n",
       "      <td>0</td>\n",
       "      <td>1</td>\n",
       "    </tr>\n",
       "    <tr>\n",
       "      <th>1</th>\n",
       "      <td>0.428571</td>\n",
       "      <td>0</td>\n",
       "      <td>0.80</td>\n",
       "      <td>0.298507</td>\n",
       "      <td>0</td>\n",
       "      <td>0.0</td>\n",
       "      <td>0.787127</td>\n",
       "      <td>0</td>\n",
       "      <td>0.409091</td>\n",
       "      <td>1</td>\n",
       "      <td>0</td>\n",
       "      <td>0</td>\n",
       "      <td>1</td>\n",
       "      <td>0</td>\n",
       "      <td>0</td>\n",
       "      <td>1</td>\n",
       "      <td>0</td>\n",
       "    </tr>\n",
       "    <tr>\n",
       "      <th>2</th>\n",
       "      <td>0.183673</td>\n",
       "      <td>1</td>\n",
       "      <td>0.65</td>\n",
       "      <td>0.469320</td>\n",
       "      <td>0</td>\n",
       "      <td>0.5</td>\n",
       "      <td>0.404163</td>\n",
       "      <td>0</td>\n",
       "      <td>0.295455</td>\n",
       "      <td>0</td>\n",
       "      <td>0</td>\n",
       "      <td>1</td>\n",
       "      <td>0</td>\n",
       "      <td>0</td>\n",
       "      <td>0</td>\n",
       "      <td>0</td>\n",
       "      <td>1</td>\n",
       "    </tr>\n",
       "    <tr>\n",
       "      <th>3</th>\n",
       "      <td>0.408163</td>\n",
       "      <td>0</td>\n",
       "      <td>0.69</td>\n",
       "      <td>0.354892</td>\n",
       "      <td>0</td>\n",
       "      <td>0.0</td>\n",
       "      <td>0.484204</td>\n",
       "      <td>1</td>\n",
       "      <td>0.465909</td>\n",
       "      <td>1</td>\n",
       "      <td>1</td>\n",
       "      <td>0</td>\n",
       "      <td>0</td>\n",
       "      <td>0</td>\n",
       "      <td>0</td>\n",
       "      <td>1</td>\n",
       "      <td>0</td>\n",
       "    </tr>\n",
       "    <tr>\n",
       "      <th>4</th>\n",
       "      <td>0.530612</td>\n",
       "      <td>1</td>\n",
       "      <td>0.75</td>\n",
       "      <td>0.323383</td>\n",
       "      <td>0</td>\n",
       "      <td>0.0</td>\n",
       "      <td>0.584614</td>\n",
       "      <td>0</td>\n",
       "      <td>0.295455</td>\n",
       "      <td>0</td>\n",
       "      <td>0</td>\n",
       "      <td>0</td>\n",
       "      <td>1</td>\n",
       "      <td>0</td>\n",
       "      <td>0</td>\n",
       "      <td>0</td>\n",
       "      <td>1</td>\n",
       "    </tr>\n",
       "    <tr>\n",
       "      <th>...</th>\n",
       "      <td>...</td>\n",
       "      <td>...</td>\n",
       "      <td>...</td>\n",
       "      <td>...</td>\n",
       "      <td>...</td>\n",
       "      <td>...</td>\n",
       "      <td>...</td>\n",
       "      <td>...</td>\n",
       "      <td>...</td>\n",
       "      <td>...</td>\n",
       "      <td>...</td>\n",
       "      <td>...</td>\n",
       "      <td>...</td>\n",
       "      <td>...</td>\n",
       "      <td>...</td>\n",
       "      <td>...</td>\n",
       "      <td>...</td>\n",
       "    </tr>\n",
       "    <tr>\n",
       "      <th>913</th>\n",
       "      <td>0.346939</td>\n",
       "      <td>1</td>\n",
       "      <td>0.55</td>\n",
       "      <td>0.437811</td>\n",
       "      <td>0</td>\n",
       "      <td>0.0</td>\n",
       "      <td>0.649512</td>\n",
       "      <td>0</td>\n",
       "      <td>0.431818</td>\n",
       "      <td>1</td>\n",
       "      <td>0</td>\n",
       "      <td>0</td>\n",
       "      <td>0</td>\n",
       "      <td>1</td>\n",
       "      <td>0</td>\n",
       "      <td>1</td>\n",
       "      <td>0</td>\n",
       "    </tr>\n",
       "    <tr>\n",
       "      <th>914</th>\n",
       "      <td>0.816327</td>\n",
       "      <td>1</td>\n",
       "      <td>0.72</td>\n",
       "      <td>0.320066</td>\n",
       "      <td>1</td>\n",
       "      <td>0.0</td>\n",
       "      <td>0.703846</td>\n",
       "      <td>0</td>\n",
       "      <td>0.681818</td>\n",
       "      <td>1</td>\n",
       "      <td>1</td>\n",
       "      <td>0</td>\n",
       "      <td>0</td>\n",
       "      <td>0</td>\n",
       "      <td>0</td>\n",
       "      <td>1</td>\n",
       "      <td>0</td>\n",
       "    </tr>\n",
       "    <tr>\n",
       "      <th>915</th>\n",
       "      <td>0.591837</td>\n",
       "      <td>1</td>\n",
       "      <td>0.65</td>\n",
       "      <td>0.217247</td>\n",
       "      <td>0</td>\n",
       "      <td>0.0</td>\n",
       "      <td>0.535938</td>\n",
       "      <td>1</td>\n",
       "      <td>0.431818</td>\n",
       "      <td>1</td>\n",
       "      <td>1</td>\n",
       "      <td>0</td>\n",
       "      <td>0</td>\n",
       "      <td>0</td>\n",
       "      <td>0</td>\n",
       "      <td>1</td>\n",
       "      <td>0</td>\n",
       "    </tr>\n",
       "    <tr>\n",
       "      <th>916</th>\n",
       "      <td>0.591837</td>\n",
       "      <td>0</td>\n",
       "      <td>0.65</td>\n",
       "      <td>0.391376</td>\n",
       "      <td>0</td>\n",
       "      <td>1.0</td>\n",
       "      <td>0.877082</td>\n",
       "      <td>0</td>\n",
       "      <td>0.295455</td>\n",
       "      <td>1</td>\n",
       "      <td>0</td>\n",
       "      <td>1</td>\n",
       "      <td>0</td>\n",
       "      <td>0</td>\n",
       "      <td>0</td>\n",
       "      <td>1</td>\n",
       "      <td>0</td>\n",
       "    </tr>\n",
       "    <tr>\n",
       "      <th>917</th>\n",
       "      <td>0.204082</td>\n",
       "      <td>1</td>\n",
       "      <td>0.69</td>\n",
       "      <td>0.290216</td>\n",
       "      <td>0</td>\n",
       "      <td>0.0</td>\n",
       "      <td>0.872335</td>\n",
       "      <td>0</td>\n",
       "      <td>0.295455</td>\n",
       "      <td>0</td>\n",
       "      <td>0</td>\n",
       "      <td>0</td>\n",
       "      <td>1</td>\n",
       "      <td>0</td>\n",
       "      <td>0</td>\n",
       "      <td>0</td>\n",
       "      <td>1</td>\n",
       "    </tr>\n",
       "  </tbody>\n",
       "</table>\n",
       "<p>918 rows × 17 columns</p>\n",
       "</div>"
      ],
      "text/plain": [
       "          Age  Sex  RestingBP  Cholesterol  FastingBS  RestingECG     MaxHR  \\\n",
       "0    0.244898    1       0.70     0.479270          0         0.0  0.867559   \n",
       "1    0.428571    0       0.80     0.298507          0         0.0  0.787127   \n",
       "2    0.183673    1       0.65     0.469320          0         0.5  0.404163   \n",
       "3    0.408163    0       0.69     0.354892          0         0.0  0.484204   \n",
       "4    0.530612    1       0.75     0.323383          0         0.0  0.584614   \n",
       "..        ...  ...        ...          ...        ...         ...       ...   \n",
       "913  0.346939    1       0.55     0.437811          0         0.0  0.649512   \n",
       "914  0.816327    1       0.72     0.320066          1         0.0  0.703846   \n",
       "915  0.591837    1       0.65     0.217247          0         0.0  0.535938   \n",
       "916  0.591837    0       0.65     0.391376          0         1.0  0.877082   \n",
       "917  0.204082    1       0.69     0.290216          0         0.0  0.872335   \n",
       "\n",
       "     ExerciseAngina   Oldpeak  HeartDisease  ChestPainType_0  ChestPainType_1  \\\n",
       "0                 0  0.295455             0                0                1   \n",
       "1                 0  0.409091             1                0                0   \n",
       "2                 0  0.295455             0                0                1   \n",
       "3                 1  0.465909             1                1                0   \n",
       "4                 0  0.295455             0                0                0   \n",
       "..              ...       ...           ...              ...              ...   \n",
       "913               0  0.431818             1                0                0   \n",
       "914               0  0.681818             1                1                0   \n",
       "915               1  0.431818             1                1                0   \n",
       "916               0  0.295455             1                0                1   \n",
       "917               0  0.295455             0                0                0   \n",
       "\n",
       "     ChestPainType_2  ChestPainType_3  ST_Slope_0  ST_Slope_1  ST_Slope_2  \n",
       "0                  0                0           0           0           1  \n",
       "1                  1                0           0           1           0  \n",
       "2                  0                0           0           0           1  \n",
       "3                  0                0           0           1           0  \n",
       "4                  1                0           0           0           1  \n",
       "..               ...              ...         ...         ...         ...  \n",
       "913                0                1           0           1           0  \n",
       "914                0                0           0           1           0  \n",
       "915                0                0           0           1           0  \n",
       "916                0                0           0           1           0  \n",
       "917                1                0           0           0           1  \n",
       "\n",
       "[918 rows x 17 columns]"
      ]
     },
     "execution_count": 57,
     "metadata": {},
     "output_type": "execute_result"
    }
   ],
   "source": [
    "df"
   ]
  },
  {
   "cell_type": "markdown",
   "id": "cfbe86ae",
   "metadata": {},
   "source": [
    "### final data is ready with all encoding and scalling\n"
   ]
  },
  {
   "cell_type": "markdown",
   "id": "3eadd2e7",
   "metadata": {},
   "source": [
    "## Test Train Split"
   ]
  },
  {
   "cell_type": "code",
   "execution_count": 58,
   "id": "d99d496c",
   "metadata": {},
   "outputs": [
    {
     "data": {
      "text/html": [
       "<div>\n",
       "<style scoped>\n",
       "    .dataframe tbody tr th:only-of-type {\n",
       "        vertical-align: middle;\n",
       "    }\n",
       "\n",
       "    .dataframe tbody tr th {\n",
       "        vertical-align: top;\n",
       "    }\n",
       "\n",
       "    .dataframe thead th {\n",
       "        text-align: right;\n",
       "    }\n",
       "</style>\n",
       "<table border=\"1\" class=\"dataframe\">\n",
       "  <thead>\n",
       "    <tr style=\"text-align: right;\">\n",
       "      <th></th>\n",
       "      <th>Age</th>\n",
       "      <th>Sex</th>\n",
       "      <th>RestingBP</th>\n",
       "      <th>Cholesterol</th>\n",
       "      <th>FastingBS</th>\n",
       "      <th>RestingECG</th>\n",
       "      <th>MaxHR</th>\n",
       "      <th>ExerciseAngina</th>\n",
       "      <th>Oldpeak</th>\n",
       "      <th>HeartDisease</th>\n",
       "      <th>ChestPainType_0</th>\n",
       "      <th>ChestPainType_1</th>\n",
       "      <th>ChestPainType_2</th>\n",
       "      <th>ChestPainType_3</th>\n",
       "      <th>ST_Slope_0</th>\n",
       "      <th>ST_Slope_1</th>\n",
       "      <th>ST_Slope_2</th>\n",
       "    </tr>\n",
       "  </thead>\n",
       "  <tbody>\n",
       "    <tr>\n",
       "      <th>0</th>\n",
       "      <td>0.244898</td>\n",
       "      <td>1</td>\n",
       "      <td>0.70</td>\n",
       "      <td>0.479270</td>\n",
       "      <td>0</td>\n",
       "      <td>0.0</td>\n",
       "      <td>0.867559</td>\n",
       "      <td>0</td>\n",
       "      <td>0.295455</td>\n",
       "      <td>0</td>\n",
       "      <td>0</td>\n",
       "      <td>1</td>\n",
       "      <td>0</td>\n",
       "      <td>0</td>\n",
       "      <td>0</td>\n",
       "      <td>0</td>\n",
       "      <td>1</td>\n",
       "    </tr>\n",
       "    <tr>\n",
       "      <th>1</th>\n",
       "      <td>0.428571</td>\n",
       "      <td>0</td>\n",
       "      <td>0.80</td>\n",
       "      <td>0.298507</td>\n",
       "      <td>0</td>\n",
       "      <td>0.0</td>\n",
       "      <td>0.787127</td>\n",
       "      <td>0</td>\n",
       "      <td>0.409091</td>\n",
       "      <td>1</td>\n",
       "      <td>0</td>\n",
       "      <td>0</td>\n",
       "      <td>1</td>\n",
       "      <td>0</td>\n",
       "      <td>0</td>\n",
       "      <td>1</td>\n",
       "      <td>0</td>\n",
       "    </tr>\n",
       "    <tr>\n",
       "      <th>2</th>\n",
       "      <td>0.183673</td>\n",
       "      <td>1</td>\n",
       "      <td>0.65</td>\n",
       "      <td>0.469320</td>\n",
       "      <td>0</td>\n",
       "      <td>0.5</td>\n",
       "      <td>0.404163</td>\n",
       "      <td>0</td>\n",
       "      <td>0.295455</td>\n",
       "      <td>0</td>\n",
       "      <td>0</td>\n",
       "      <td>1</td>\n",
       "      <td>0</td>\n",
       "      <td>0</td>\n",
       "      <td>0</td>\n",
       "      <td>0</td>\n",
       "      <td>1</td>\n",
       "    </tr>\n",
       "    <tr>\n",
       "      <th>3</th>\n",
       "      <td>0.408163</td>\n",
       "      <td>0</td>\n",
       "      <td>0.69</td>\n",
       "      <td>0.354892</td>\n",
       "      <td>0</td>\n",
       "      <td>0.0</td>\n",
       "      <td>0.484204</td>\n",
       "      <td>1</td>\n",
       "      <td>0.465909</td>\n",
       "      <td>1</td>\n",
       "      <td>1</td>\n",
       "      <td>0</td>\n",
       "      <td>0</td>\n",
       "      <td>0</td>\n",
       "      <td>0</td>\n",
       "      <td>1</td>\n",
       "      <td>0</td>\n",
       "    </tr>\n",
       "    <tr>\n",
       "      <th>4</th>\n",
       "      <td>0.530612</td>\n",
       "      <td>1</td>\n",
       "      <td>0.75</td>\n",
       "      <td>0.323383</td>\n",
       "      <td>0</td>\n",
       "      <td>0.0</td>\n",
       "      <td>0.584614</td>\n",
       "      <td>0</td>\n",
       "      <td>0.295455</td>\n",
       "      <td>0</td>\n",
       "      <td>0</td>\n",
       "      <td>0</td>\n",
       "      <td>1</td>\n",
       "      <td>0</td>\n",
       "      <td>0</td>\n",
       "      <td>0</td>\n",
       "      <td>1</td>\n",
       "    </tr>\n",
       "    <tr>\n",
       "      <th>...</th>\n",
       "      <td>...</td>\n",
       "      <td>...</td>\n",
       "      <td>...</td>\n",
       "      <td>...</td>\n",
       "      <td>...</td>\n",
       "      <td>...</td>\n",
       "      <td>...</td>\n",
       "      <td>...</td>\n",
       "      <td>...</td>\n",
       "      <td>...</td>\n",
       "      <td>...</td>\n",
       "      <td>...</td>\n",
       "      <td>...</td>\n",
       "      <td>...</td>\n",
       "      <td>...</td>\n",
       "      <td>...</td>\n",
       "      <td>...</td>\n",
       "    </tr>\n",
       "    <tr>\n",
       "      <th>913</th>\n",
       "      <td>0.346939</td>\n",
       "      <td>1</td>\n",
       "      <td>0.55</td>\n",
       "      <td>0.437811</td>\n",
       "      <td>0</td>\n",
       "      <td>0.0</td>\n",
       "      <td>0.649512</td>\n",
       "      <td>0</td>\n",
       "      <td>0.431818</td>\n",
       "      <td>1</td>\n",
       "      <td>0</td>\n",
       "      <td>0</td>\n",
       "      <td>0</td>\n",
       "      <td>1</td>\n",
       "      <td>0</td>\n",
       "      <td>1</td>\n",
       "      <td>0</td>\n",
       "    </tr>\n",
       "    <tr>\n",
       "      <th>914</th>\n",
       "      <td>0.816327</td>\n",
       "      <td>1</td>\n",
       "      <td>0.72</td>\n",
       "      <td>0.320066</td>\n",
       "      <td>1</td>\n",
       "      <td>0.0</td>\n",
       "      <td>0.703846</td>\n",
       "      <td>0</td>\n",
       "      <td>0.681818</td>\n",
       "      <td>1</td>\n",
       "      <td>1</td>\n",
       "      <td>0</td>\n",
       "      <td>0</td>\n",
       "      <td>0</td>\n",
       "      <td>0</td>\n",
       "      <td>1</td>\n",
       "      <td>0</td>\n",
       "    </tr>\n",
       "    <tr>\n",
       "      <th>915</th>\n",
       "      <td>0.591837</td>\n",
       "      <td>1</td>\n",
       "      <td>0.65</td>\n",
       "      <td>0.217247</td>\n",
       "      <td>0</td>\n",
       "      <td>0.0</td>\n",
       "      <td>0.535938</td>\n",
       "      <td>1</td>\n",
       "      <td>0.431818</td>\n",
       "      <td>1</td>\n",
       "      <td>1</td>\n",
       "      <td>0</td>\n",
       "      <td>0</td>\n",
       "      <td>0</td>\n",
       "      <td>0</td>\n",
       "      <td>1</td>\n",
       "      <td>0</td>\n",
       "    </tr>\n",
       "    <tr>\n",
       "      <th>916</th>\n",
       "      <td>0.591837</td>\n",
       "      <td>0</td>\n",
       "      <td>0.65</td>\n",
       "      <td>0.391376</td>\n",
       "      <td>0</td>\n",
       "      <td>1.0</td>\n",
       "      <td>0.877082</td>\n",
       "      <td>0</td>\n",
       "      <td>0.295455</td>\n",
       "      <td>1</td>\n",
       "      <td>0</td>\n",
       "      <td>1</td>\n",
       "      <td>0</td>\n",
       "      <td>0</td>\n",
       "      <td>0</td>\n",
       "      <td>1</td>\n",
       "      <td>0</td>\n",
       "    </tr>\n",
       "    <tr>\n",
       "      <th>917</th>\n",
       "      <td>0.204082</td>\n",
       "      <td>1</td>\n",
       "      <td>0.69</td>\n",
       "      <td>0.290216</td>\n",
       "      <td>0</td>\n",
       "      <td>0.0</td>\n",
       "      <td>0.872335</td>\n",
       "      <td>0</td>\n",
       "      <td>0.295455</td>\n",
       "      <td>0</td>\n",
       "      <td>0</td>\n",
       "      <td>0</td>\n",
       "      <td>1</td>\n",
       "      <td>0</td>\n",
       "      <td>0</td>\n",
       "      <td>0</td>\n",
       "      <td>1</td>\n",
       "    </tr>\n",
       "  </tbody>\n",
       "</table>\n",
       "<p>918 rows × 17 columns</p>\n",
       "</div>"
      ],
      "text/plain": [
       "          Age  Sex  RestingBP  Cholesterol  FastingBS  RestingECG     MaxHR  \\\n",
       "0    0.244898    1       0.70     0.479270          0         0.0  0.867559   \n",
       "1    0.428571    0       0.80     0.298507          0         0.0  0.787127   \n",
       "2    0.183673    1       0.65     0.469320          0         0.5  0.404163   \n",
       "3    0.408163    0       0.69     0.354892          0         0.0  0.484204   \n",
       "4    0.530612    1       0.75     0.323383          0         0.0  0.584614   \n",
       "..        ...  ...        ...          ...        ...         ...       ...   \n",
       "913  0.346939    1       0.55     0.437811          0         0.0  0.649512   \n",
       "914  0.816327    1       0.72     0.320066          1         0.0  0.703846   \n",
       "915  0.591837    1       0.65     0.217247          0         0.0  0.535938   \n",
       "916  0.591837    0       0.65     0.391376          0         1.0  0.877082   \n",
       "917  0.204082    1       0.69     0.290216          0         0.0  0.872335   \n",
       "\n",
       "     ExerciseAngina   Oldpeak  HeartDisease  ChestPainType_0  ChestPainType_1  \\\n",
       "0                 0  0.295455             0                0                1   \n",
       "1                 0  0.409091             1                0                0   \n",
       "2                 0  0.295455             0                0                1   \n",
       "3                 1  0.465909             1                1                0   \n",
       "4                 0  0.295455             0                0                0   \n",
       "..              ...       ...           ...              ...              ...   \n",
       "913               0  0.431818             1                0                0   \n",
       "914               0  0.681818             1                1                0   \n",
       "915               1  0.431818             1                1                0   \n",
       "916               0  0.295455             1                0                1   \n",
       "917               0  0.295455             0                0                0   \n",
       "\n",
       "     ChestPainType_2  ChestPainType_3  ST_Slope_0  ST_Slope_1  ST_Slope_2  \n",
       "0                  0                0           0           0           1  \n",
       "1                  1                0           0           1           0  \n",
       "2                  0                0           0           0           1  \n",
       "3                  0                0           0           1           0  \n",
       "4                  1                0           0           0           1  \n",
       "..               ...              ...         ...         ...         ...  \n",
       "913                0                1           0           1           0  \n",
       "914                0                0           0           1           0  \n",
       "915                0                0           0           1           0  \n",
       "916                0                0           0           1           0  \n",
       "917                1                0           0           0           1  \n",
       "\n",
       "[918 rows x 17 columns]"
      ]
     },
     "execution_count": 58,
     "metadata": {},
     "output_type": "execute_result"
    }
   ],
   "source": [
    "df"
   ]
  },
  {
   "cell_type": "code",
   "execution_count": 59,
   "id": "4a8eddc9",
   "metadata": {},
   "outputs": [],
   "source": [
    "y=df['HeartDisease']\n",
    "x=df.drop(['HeartDisease'],axis=1)"
   ]
  },
  {
   "cell_type": "code",
   "execution_count": 60,
   "id": "da7f80c3",
   "metadata": {},
   "outputs": [],
   "source": [
    "from sklearn.model_selection import train_test_split\n",
    "\n",
    "x_train, x_test, y_train, y_test=train_test_split(x,y,test_size=0.2,random_state=52)"
   ]
  },
  {
   "cell_type": "markdown",
   "id": "e68978ac",
   "metadata": {},
   "source": [
    "# Model building"
   ]
  },
  {
   "cell_type": "markdown",
   "id": "9d0e55c8",
   "metadata": {},
   "source": [
    "### Logistic Regression"
   ]
  },
  {
   "cell_type": "code",
   "execution_count": 61,
   "id": "983ce2fa",
   "metadata": {},
   "outputs": [
    {
     "name": "stdout",
     "output_type": "stream",
     "text": [
      "Model : LogisticRegression\n",
      "----------------------\n",
      "accuracy_score for Test : 0.9021739130434783\n",
      "accuracy_score for Train : 0.8610354223433242\n",
      "recall_score : 0.9285714285714286\n",
      "precision_score : 0.8921568627450981\n",
      "f1_score : 0.9099999999999999\n",
      "roc_auc_score : 0.9003322259136213\n"
     ]
    }
   ],
   "source": [
    "from sklearn.linear_model import LogisticRegression\n",
    "\n",
    "lr=LogisticRegression()\n",
    "lr.fit(x_train,y_train)\n",
    "\n",
    "y_test_pred=lr.predict(x_test)\n",
    "y_train_pred=lr.predict(x_train)\n",
    "\n",
    "#evalution\n",
    "from sklearn.metrics import accuracy_score,confusion_matrix,recall_score,classification_report,f1_score,precision_score,roc_auc_score\n",
    "\n",
    "print('Model : LogisticRegression')\n",
    "print('----------------------')\n",
    "print('accuracy_score for Test :',accuracy_score(y_test,y_test_pred))\n",
    "print('accuracy_score for Train :',accuracy_score(y_train,y_train_pred))\n",
    "print('recall_score :',recall_score(y_test,y_test_pred))\n",
    "print('precision_score :',precision_score(y_test,y_test_pred))\n",
    "print('f1_score :',f1_score(y_test,y_test_pred))\n",
    "print('roc_auc_score :',roc_auc_score(y_test,y_test_pred))\n",
    "\n",
    "#save in list\n",
    "\n",
    "lr_eve=[accuracy_score(y_test,y_test_pred),accuracy_score(y_train,y_train_pred),recall_score(y_test,y_test_pred),precision_score(y_test,y_test_pred),f1_score(y_test,y_test_pred),roc_auc_score(y_test,y_test_pred)]"
   ]
  },
  {
   "cell_type": "markdown",
   "id": "142f00ea",
   "metadata": {},
   "source": [
    "## Decision Tree"
   ]
  },
  {
   "cell_type": "code",
   "execution_count": 62,
   "id": "7a3db3fc",
   "metadata": {},
   "outputs": [
    {
     "name": "stdout",
     "output_type": "stream",
     "text": [
      "Model : Decision Tree\n",
      "----------------------\n",
      "accuracy_score for Test : 0.7880434782608695\n",
      "accuracy_score for Train : 1.0\n",
      "recall_score : 0.8163265306122449\n",
      "precision_score : 0.7920792079207921\n",
      "f1_score : 0.8040201005025126\n",
      "roc_auc_score : 0.7860702420503085\n"
     ]
    }
   ],
   "source": [
    "from sklearn.tree import DecisionTreeClassifier\n",
    "\n",
    "dt=DecisionTreeClassifier()\n",
    "dt.fit(x_train,y_train)\n",
    "\n",
    "y_test_pred=dt.predict(x_test)\n",
    "y_train_pred=dt.predict(x_train)\n",
    "\n",
    "#evalution\n",
    "from sklearn.metrics import accuracy_score,confusion_matrix,recall_score,classification_report,f1_score,precision_score\n",
    "\n",
    "print('Model : Decision Tree')\n",
    "print('----------------------')\n",
    "print('accuracy_score for Test :',accuracy_score(y_test,y_test_pred))\n",
    "print('accuracy_score for Train :',accuracy_score(y_train,y_train_pred))\n",
    "print('recall_score :',recall_score(y_test,y_test_pred))\n",
    "print('precision_score :',precision_score(y_test,y_test_pred))\n",
    "print('f1_score :',f1_score(y_test,y_test_pred))\n",
    "print('roc_auc_score :',roc_auc_score(y_test,y_test_pred))\n",
    "\n",
    "#save in list\n",
    "\n",
    "dt_eve=[accuracy_score(y_test,y_test_pred),accuracy_score(y_train,y_train_pred),recall_score(y_test,y_test_pred),precision_score(y_test,y_test_pred),f1_score(y_test,y_test_pred),roc_auc_score(y_test,y_test_pred)]"
   ]
  },
  {
   "cell_type": "markdown",
   "id": "934df858",
   "metadata": {},
   "source": [
    "## SVM"
   ]
  },
  {
   "cell_type": "code",
   "execution_count": 63,
   "id": "9727c754",
   "metadata": {},
   "outputs": [
    {
     "name": "stdout",
     "output_type": "stream",
     "text": [
      "Model : SVM\n",
      "accuracy_score for Test : 0.8858695652173914\n",
      "accuracy_score for Train : 0.8732970027247956\n",
      "recall_score : 0.9285714285714286\n",
      "precision_score : 0.8666666666666667\n",
      "f1_score : 0.896551724137931\n",
      "roc_auc_score : 0.882890365448505\n"
     ]
    }
   ],
   "source": [
    "from sklearn.svm import SVC\n",
    "\n",
    "sv=SVC()\n",
    "sv.fit(x_train,y_train)\n",
    "\n",
    "y_test_pred=sv.predict(x_test)\n",
    "y_train_pred=sv.predict(x_train)\n",
    "\n",
    "#evalution\n",
    "from sklearn.metrics import accuracy_score,confusion_matrix,recall_score,classification_report,f1_score,precision_score\n",
    "\n",
    "print('Model : SVM')\n",
    "print('accuracy_score for Test :',accuracy_score(y_test,y_test_pred))\n",
    "print('accuracy_score for Train :',accuracy_score(y_train,y_train_pred))\n",
    "print('recall_score :',recall_score(y_test,y_test_pred))\n",
    "print('precision_score :',precision_score(y_test,y_test_pred))\n",
    "print('f1_score :',f1_score(y_test,y_test_pred))\n",
    "print('roc_auc_score :',roc_auc_score(y_test,y_test_pred))\n",
    "\n",
    "#save in list\n",
    "\n",
    "sv_eve=[accuracy_score(y_test,y_test_pred),accuracy_score(y_train,y_train_pred),recall_score(y_test,y_test_pred),precision_score(y_test,y_test_pred),f1_score(y_test,y_test_pred),roc_auc_score(y_test,y_test_pred)]"
   ]
  },
  {
   "cell_type": "markdown",
   "id": "7ab50a84",
   "metadata": {},
   "source": [
    "## KNN"
   ]
  },
  {
   "cell_type": "code",
   "execution_count": 64,
   "id": "7934c5f4",
   "metadata": {},
   "outputs": [
    {
     "name": "stdout",
     "output_type": "stream",
     "text": [
      "Model : KNN\n",
      "----------------------\n",
      "accuracy_score for Test : 0.8315217391304348\n",
      "accuracy_score for Train : 0.8828337874659401\n",
      "recall_score : 0.8469387755102041\n",
      "precision_score : 0.8383838383838383\n",
      "f1_score : 0.8426395939086294\n",
      "roc_auc_score : 0.8304461319411486\n"
     ]
    }
   ],
   "source": [
    "from sklearn.neighbors import KNeighborsClassifier\n",
    "\n",
    "knn=KNeighborsClassifier()\n",
    "knn.fit(x_train,y_train)\n",
    "\n",
    "y_test_pred=knn.predict(x_test)\n",
    "y_train_pred=knn.predict(x_train)\n",
    "\n",
    "#evalution\n",
    "from sklearn.metrics import accuracy_score,confusion_matrix,recall_score,classification_report,f1_score,precision_score\n",
    "\n",
    "print('Model : KNN')\n",
    "print('----------------------')\n",
    "print('accuracy_score for Test :',accuracy_score(y_test,y_test_pred))\n",
    "print('accuracy_score for Train :',accuracy_score(y_train,y_train_pred))\n",
    "print('recall_score :',recall_score(y_test,y_test_pred))\n",
    "print('precision_score :',precision_score(y_test,y_test_pred))\n",
    "print('f1_score :',f1_score(y_test,y_test_pred))\n",
    "print('roc_auc_score :',roc_auc_score(y_test,y_test_pred))\n",
    "\n",
    "#save in list\n",
    "\n",
    "knn_eve=[accuracy_score(y_test,y_test_pred),accuracy_score(y_train,y_train_pred),recall_score(y_test,y_test_pred),precision_score(y_test,y_test_pred),f1_score(y_test,y_test_pred),roc_auc_score(y_test,y_test_pred)]"
   ]
  },
  {
   "cell_type": "markdown",
   "id": "2deb575e",
   "metadata": {},
   "source": [
    "## Random Forest"
   ]
  },
  {
   "cell_type": "code",
   "execution_count": 65,
   "id": "a754713b",
   "metadata": {},
   "outputs": [
    {
     "name": "stdout",
     "output_type": "stream",
     "text": [
      "Model : Random Forest\n",
      "----------------------\n",
      "accuracy_score for Test : 0.875\n",
      "accuracy_score for Train : 1.0\n",
      "recall_score : 0.9285714285714286\n",
      "precision_score : 0.8504672897196262\n",
      "f1_score : 0.8878048780487805\n",
      "roc_auc_score : 0.8712624584717609\n"
     ]
    }
   ],
   "source": [
    "from sklearn.ensemble import RandomForestClassifier\n",
    "\n",
    "rf=RandomForestClassifier()\n",
    "rf.fit(x_train,y_train)\n",
    "\n",
    "y_test_pred=rf.predict(x_test)\n",
    "y_train_pred=rf.predict(x_train)\n",
    "\n",
    "#evalution\n",
    "from sklearn.metrics import accuracy_score,confusion_matrix,recall_score,classification_report,f1_score,precision_score\n",
    "\n",
    "print('Model : Random Forest')\n",
    "print('----------------------')\n",
    "print('accuracy_score for Test :',accuracy_score(y_test,y_test_pred))\n",
    "print('accuracy_score for Train :',accuracy_score(y_train,y_train_pred))\n",
    "print('recall_score :',recall_score(y_test,y_test_pred))\n",
    "print('precision_score :',precision_score(y_test,y_test_pred))\n",
    "print('f1_score :',f1_score(y_test,y_test_pred))\n",
    "print('roc_auc_score :',roc_auc_score(y_test,y_test_pred))\n",
    "\n",
    "#save in list\n",
    "\n",
    "rf_eve=[accuracy_score(y_test,y_test_pred),accuracy_score(y_train,y_train_pred),recall_score(y_test,y_test_pred),precision_score(y_test,y_test_pred),f1_score(y_test,y_test_pred),roc_auc_score(y_test,y_test_pred)]"
   ]
  },
  {
   "cell_type": "markdown",
   "id": "11f818ca",
   "metadata": {},
   "source": [
    "## AdaBoost"
   ]
  },
  {
   "cell_type": "code",
   "execution_count": 66,
   "id": "908682c0",
   "metadata": {},
   "outputs": [
    {
     "name": "stdout",
     "output_type": "stream",
     "text": [
      "Model : AdaBoost\n",
      "----------------------\n",
      "accuracy_score for Test : 0.907608695652174\n",
      "accuracy_score for Train : 0.8814713896457765\n",
      "recall_score : 0.9591836734693877\n",
      "precision_score : 0.8785046728971962\n",
      "f1_score : 0.9170731707317074\n",
      "roc_auc_score : 0.9040104413858565\n"
     ]
    }
   ],
   "source": [
    "from sklearn.ensemble import AdaBoostClassifier\n",
    "\n",
    "ad=AdaBoostClassifier()\n",
    "ad.fit(x_train,y_train)\n",
    "\n",
    "y_test_pred=ad.predict(x_test)\n",
    "y_train_pred=ad.predict(x_train)\n",
    "\n",
    "#evalution\n",
    "from sklearn.metrics import accuracy_score,confusion_matrix,recall_score,classification_report,f1_score,precision_score\n",
    "\n",
    "print('Model : AdaBoost')\n",
    "print('----------------------')\n",
    "print('accuracy_score for Test :',accuracy_score(y_test,y_test_pred))\n",
    "print('accuracy_score for Train :',accuracy_score(y_train,y_train_pred))\n",
    "print('recall_score :',recall_score(y_test,y_test_pred))\n",
    "print('precision_score :',precision_score(y_test,y_test_pred))\n",
    "print('f1_score :',f1_score(y_test,y_test_pred))\n",
    "print('roc_auc_score :',roc_auc_score(y_test,y_test_pred))\n",
    "\n",
    "#save in list\n",
    "\n",
    "ad_eve=[accuracy_score(y_test,y_test_pred),accuracy_score(y_train,y_train_pred),recall_score(y_test,y_test_pred),precision_score(y_test,y_test_pred),f1_score(y_test,y_test_pred),roc_auc_score(y_test,y_test_pred)]"
   ]
  },
  {
   "cell_type": "markdown",
   "id": "5ab61b40",
   "metadata": {},
   "source": [
    "## XG Boost"
   ]
  },
  {
   "cell_type": "code",
   "execution_count": 67,
   "id": "af34a258",
   "metadata": {},
   "outputs": [
    {
     "name": "stderr",
     "output_type": "stream",
     "text": [
      "C:\\Users\\hp\\anaconda3\\lib\\site-packages\\xgboost\\sklearn.py:1224: UserWarning: The use of label encoder in XGBClassifier is deprecated and will be removed in a future release. To remove this warning, do the following: 1) Pass option use_label_encoder=False when constructing XGBClassifier object; and 2) Encode your labels (y) as integers starting with 0, i.e. 0, 1, 2, ..., [num_class - 1].\n",
      "  warnings.warn(label_encoder_deprecation_msg, UserWarning)\n"
     ]
    },
    {
     "name": "stdout",
     "output_type": "stream",
     "text": [
      "[16:29:57] WARNING: C:/Users/Administrator/workspace/xgboost-win64_release_1.5.1/src/learner.cc:1115: Starting in XGBoost 1.3.0, the default evaluation metric used with the objective 'binary:logistic' was changed from 'error' to 'logloss'. Explicitly set eval_metric if you'd like to restore the old behavior.\n",
      "Model : XG Boost\n",
      "----------------------\n",
      "accuracy_score for Test : 0.8586956521739131\n",
      "accuracy_score for Train : 1.0\n",
      "recall_score : 0.8877551020408163\n",
      "precision_score : 0.8529411764705882\n",
      "f1_score : 0.87\n",
      "roc_auc_score : 0.8566682486948268\n"
     ]
    }
   ],
   "source": [
    "from xgboost import XGBClassifier\n",
    "\n",
    "xgb=XGBClassifier()\n",
    "xgb.fit(x_train,y_train)\n",
    "\n",
    "y_test_pred=xgb.predict(x_test)\n",
    "y_train_pred=xgb.predict(x_train)\n",
    "\n",
    "#evalution\n",
    "from sklearn.metrics import accuracy_score,confusion_matrix,recall_score,classification_report,f1_score,precision_score\n",
    "\n",
    "print('Model : XG Boost')\n",
    "print('----------------------')\n",
    "print('accuracy_score for Test :',accuracy_score(y_test,y_test_pred))\n",
    "print('accuracy_score for Train :',accuracy_score(y_train,y_train_pred))\n",
    "print('recall_score :',recall_score(y_test,y_test_pred))\n",
    "print('precision_score :',precision_score(y_test,y_test_pred))\n",
    "print('f1_score :',f1_score(y_test,y_test_pred))\n",
    "print('roc_auc_score :',roc_auc_score(y_test,y_test_pred))\n",
    "\n",
    "#save in list\n",
    "\n",
    "xgb_eve=[accuracy_score(y_test,y_test_pred),accuracy_score(y_train,y_train_pred),recall_score(y_test,y_test_pred),precision_score(y_test,y_test_pred),f1_score(y_test,y_test_pred),roc_auc_score(y_test,y_test_pred)]"
   ]
  },
  {
   "cell_type": "markdown",
   "id": "be87e3ef",
   "metadata": {},
   "source": [
    "### Evaluation Matrix for all models"
   ]
  },
  {
   "cell_type": "code",
   "execution_count": 68,
   "id": "6151a898",
   "metadata": {},
   "outputs": [
    {
     "data": {
      "text/html": [
       "<div>\n",
       "<style scoped>\n",
       "    .dataframe tbody tr th:only-of-type {\n",
       "        vertical-align: middle;\n",
       "    }\n",
       "\n",
       "    .dataframe tbody tr th {\n",
       "        vertical-align: top;\n",
       "    }\n",
       "\n",
       "    .dataframe thead th {\n",
       "        text-align: right;\n",
       "    }\n",
       "</style>\n",
       "<table border=\"1\" class=\"dataframe\">\n",
       "  <thead>\n",
       "    <tr style=\"text-align: right;\">\n",
       "      <th></th>\n",
       "      <th>LR</th>\n",
       "      <th>DT</th>\n",
       "      <th>SVM</th>\n",
       "      <th>KNN</th>\n",
       "      <th>RF</th>\n",
       "      <th>ADB</th>\n",
       "      <th>XGB</th>\n",
       "    </tr>\n",
       "  </thead>\n",
       "  <tbody>\n",
       "    <tr>\n",
       "      <th>accuracy_score for Test :</th>\n",
       "      <td>0.902174</td>\n",
       "      <td>0.788043</td>\n",
       "      <td>0.885870</td>\n",
       "      <td>0.831522</td>\n",
       "      <td>0.875000</td>\n",
       "      <td>0.907609</td>\n",
       "      <td>0.858696</td>\n",
       "    </tr>\n",
       "    <tr>\n",
       "      <th>accuracy_score for Train :</th>\n",
       "      <td>0.861035</td>\n",
       "      <td>1.000000</td>\n",
       "      <td>0.873297</td>\n",
       "      <td>0.882834</td>\n",
       "      <td>1.000000</td>\n",
       "      <td>0.881471</td>\n",
       "      <td>1.000000</td>\n",
       "    </tr>\n",
       "    <tr>\n",
       "      <th>recall_score :</th>\n",
       "      <td>0.928571</td>\n",
       "      <td>0.816327</td>\n",
       "      <td>0.928571</td>\n",
       "      <td>0.846939</td>\n",
       "      <td>0.928571</td>\n",
       "      <td>0.959184</td>\n",
       "      <td>0.887755</td>\n",
       "    </tr>\n",
       "    <tr>\n",
       "      <th>precision_score :</th>\n",
       "      <td>0.892157</td>\n",
       "      <td>0.792079</td>\n",
       "      <td>0.866667</td>\n",
       "      <td>0.838384</td>\n",
       "      <td>0.850467</td>\n",
       "      <td>0.878505</td>\n",
       "      <td>0.852941</td>\n",
       "    </tr>\n",
       "    <tr>\n",
       "      <th>f1_score :</th>\n",
       "      <td>0.910000</td>\n",
       "      <td>0.804020</td>\n",
       "      <td>0.896552</td>\n",
       "      <td>0.842640</td>\n",
       "      <td>0.887805</td>\n",
       "      <td>0.917073</td>\n",
       "      <td>0.870000</td>\n",
       "    </tr>\n",
       "    <tr>\n",
       "      <th>roc_auc_score :</th>\n",
       "      <td>0.900332</td>\n",
       "      <td>0.786070</td>\n",
       "      <td>0.882890</td>\n",
       "      <td>0.830446</td>\n",
       "      <td>0.871262</td>\n",
       "      <td>0.904010</td>\n",
       "      <td>0.856668</td>\n",
       "    </tr>\n",
       "  </tbody>\n",
       "</table>\n",
       "</div>"
      ],
      "text/plain": [
       "                                  LR        DT       SVM       KNN        RF  \\\n",
       "accuracy_score for Test :   0.902174  0.788043  0.885870  0.831522  0.875000   \n",
       "accuracy_score for Train :  0.861035  1.000000  0.873297  0.882834  1.000000   \n",
       "recall_score :              0.928571  0.816327  0.928571  0.846939  0.928571   \n",
       "precision_score :           0.892157  0.792079  0.866667  0.838384  0.850467   \n",
       "f1_score :                  0.910000  0.804020  0.896552  0.842640  0.887805   \n",
       "roc_auc_score :             0.900332  0.786070  0.882890  0.830446  0.871262   \n",
       "\n",
       "                                 ADB       XGB  \n",
       "accuracy_score for Test :   0.907609  0.858696  \n",
       "accuracy_score for Train :  0.881471  1.000000  \n",
       "recall_score :              0.959184  0.887755  \n",
       "precision_score :           0.878505  0.852941  \n",
       "f1_score :                  0.917073  0.870000  \n",
       "roc_auc_score :             0.904010  0.856668  "
      ]
     },
     "execution_count": 68,
     "metadata": {},
     "output_type": "execute_result"
    }
   ],
   "source": [
    "lr_eve_array=np.array(lr_eve)\n",
    "dt_eve_array=np.array(dt_eve)\n",
    "sv_eve_array=np.array(sv_eve)\n",
    "knn_eve_array=np.array(knn_eve)\n",
    "rf_eve_array=np.array(rf_eve)\n",
    "ad_eve_array=np.array(ad_eve)\n",
    "xgb_eve_array=np.array(xgb_eve)\n",
    "\n",
    "eve_list=np.concatenate((lr_eve_array,dt_eve_array,sv_eve_array,knn_eve_array,rf_eve_array,ad_eve_array,xgb_eve_array),\n",
    "                        axis=0).reshape(7,6)\n",
    "\n",
    "\n",
    "eva_matrix=pd.DataFrame(data=eve_list,\n",
    "                        index=['LR','DT','SVM','KNN','RF','ADB','XGB'],\n",
    "                        columns=['accuracy_score for Test :','accuracy_score for Train :','recall_score :','precision_score :','f1_score :','roc_auc_score :'] )\n",
    "eva_matrix.transpose()"
   ]
  },
  {
   "cell_type": "code",
   "execution_count": 69,
   "id": "d4a7cc3d",
   "metadata": {},
   "outputs": [],
   "source": [
    "#from above evaluation adaboost perform well in all parameter\n"
   ]
  },
  {
   "cell_type": "markdown",
   "id": "4b09d9e4",
   "metadata": {},
   "source": [
    "### Hyperparameter Tuning and CV for selected model"
   ]
  },
  {
   "cell_type": "code",
   "execution_count": 70,
   "id": "8f8c68db",
   "metadata": {},
   "outputs": [],
   "source": [
    "from sklearn.model_selection import RandomizedSearchCV"
   ]
  },
  {
   "cell_type": "code",
   "execution_count": 71,
   "id": "d1c19039",
   "metadata": {},
   "outputs": [
    {
     "name": "stdout",
     "output_type": "stream",
     "text": [
      "Model : AdaBoost with Hyper Tuning\n",
      "----------------------\n",
      "accuracy_score for Test : 0.9184782608695652\n",
      "accuracy_score for Train : 0.8841961852861036\n",
      "recall_score : 0.9693877551020408\n",
      "precision_score : 0.8878504672897196\n",
      "f1_score : 0.926829268292683\n",
      "roc_auc_score : 0.9149264356905551\n",
      "Best parameter :  {'n_estimators': 150, 'learning_rate': 0.3}\n"
     ]
    }
   ],
   "source": [
    "from sklearn.ensemble import AdaBoostClassifier\n",
    "from sklearn.model_selection import RandomizedSearchCV\n",
    "\n",
    "\n",
    "ad=AdaBoostClassifier()\n",
    "ad_para={'n_estimators':[50,100,150,200,250,300,350,400,450,500,550,600],\n",
    "        'learning_rate':[0.05,0.1,0.3,0.5]}\n",
    "\n",
    "rs_cv=RandomizedSearchCV(estimator=ad,param_distributions=ad_para,cv=10,random_state=52,n_jobs=-1)\n",
    "\n",
    "rs_cv.fit(x_train,y_train)\n",
    "\n",
    "y_test_pred=rs_cv.predict(x_test)\n",
    "y_train_pred=rs_cv.predict(x_train)\n",
    "\n",
    "#evalution\n",
    "from sklearn.metrics import accuracy_score,confusion_matrix,recall_score,classification_report,f1_score,precision_score\n",
    "\n",
    "print('Model : AdaBoost with Hyper Tuning')\n",
    "print('----------------------')\n",
    "print('accuracy_score for Test :',accuracy_score(y_test,y_test_pred))\n",
    "print('accuracy_score for Train :',accuracy_score(y_train,y_train_pred))\n",
    "print('recall_score :',recall_score(y_test,y_test_pred))\n",
    "print('precision_score :',precision_score(y_test,y_test_pred))\n",
    "print('f1_score :',f1_score(y_test,y_test_pred))\n",
    "print('roc_auc_score :',roc_auc_score(y_test,y_test_pred))\n",
    "\n",
    "print('Best parameter : ',rs_cv.best_params_)\n"
   ]
  },
  {
   "cell_type": "markdown",
   "id": "d262b7a5",
   "metadata": {},
   "source": [
    "### Plotting the feature importance for Top 10 most important columns"
   ]
  },
  {
   "cell_type": "code",
   "execution_count": 72,
   "id": "69f0efab",
   "metadata": {},
   "outputs": [
    {
     "data": {
      "text/plain": [
       "<AxesSubplot:>"
      ]
     },
     "execution_count": 72,
     "metadata": {},
     "output_type": "execute_result"
    },
    {
     "data": {
      "image/png": "[encoded data removed]",
      "text/plain": [
       "<Figure size 432x288 with 1 Axes>"
      ]
     },
     "metadata": {
      "needs_background": "light"
     },
     "output_type": "display_data"
    }
   ],
   "source": [
    "\n",
    "\n",
    "%matplotlib inline\n",
    "feature_importances = pd.Series(dt.feature_importances_, index=x.columns)\n",
    "feature_importances.nlargest(15).plot(kind='barh')"
   ]
  },
  {
   "cell_type": "markdown",
   "id": "a013af81",
   "metadata": {},
   "source": [
    "### Final Model:"
   ]
  },
  {
   "cell_type": "code",
   "execution_count": 73,
   "id": "52ae00f4",
   "metadata": {},
   "outputs": [],
   "source": [
    "#as per above evaluation matrix adboost give maximum accuracy also perform good in othe evaluation \n",
    "#parameter, so we select Adaboost as out final model\n",
    "\n",
    "#with hyperparameter : 'n_estimators': 150, 'learning_rate': 0.3\n"
   ]
  },
  {
   "cell_type": "markdown",
   "id": "c43c3e31",
   "metadata": {},
   "source": [
    "## Model Deployement"
   ]
  },
  {
   "cell_type": "markdown",
   "id": "9ee20293",
   "metadata": {},
   "source": [
    "### 1. train the model with 100% data"
   ]
  },
  {
   "cell_type": "code",
   "execution_count": 74,
   "id": "971154db",
   "metadata": {},
   "outputs": [
    {
     "data": {
      "text/plain": [
       "AdaBoostClassifier(learning_rate=0.3, n_estimators=150)"
      ]
     },
     "execution_count": 74,
     "metadata": {},
     "output_type": "execute_result"
    }
   ],
   "source": [
    "final_model=AdaBoostClassifier(n_estimators= 150, learning_rate= 0.3)\n",
    "\n",
    "final_model.fit(x,y)\n",
    "\n"
   ]
  },
  {
   "cell_type": "markdown",
   "id": "b59b1c8d",
   "metadata": {},
   "source": [
    "### 2. Save model as serilized file which can be store anywhere"
   ]
  },
  {
   "cell_type": "code",
   "execution_count": 75,
   "id": "ff636e74",
   "metadata": {},
   "outputs": [
    {
     "name": "stdout",
     "output_type": "stream",
     "text": [
      "pickle file of Predictive Model is saved at Location: C:\\Users\\hp\\Data Science\\ML Practice\\Heart_Failure_Prediction_Project\n"
     ]
    }
   ],
   "source": [
    "import pickle\n",
    "import os\n",
    "\n",
    "with open('final_model.pkl','wb') as filewritestream:\n",
    "    pickle.dump(final_model,filewritestream)\n",
    "    filewritestream.close()\n",
    "    \n",
    "print('pickle file of Predictive Model is saved at Location:',os.getcwd())"
   ]
  },
  {
   "cell_type": "markdown",
   "id": "af4b2c3c",
   "metadata": {},
   "source": [
    "### 3. Create a python function which gets integrated with front-end(Tableau/Java Website etc.) to take all the inputs and returns the prediction"
   ]
  },
  {
   "cell_type": "code",
   "execution_count": 76,
   "id": "0377ba52",
   "metadata": {},
   "outputs": [],
   "source": [
    "def function_predict_result(input_data):\n",
    "    \n",
    "    #extracting no. of rows\n",
    "    num_inputs=input_data.shape[0]\n",
    "     \n",
    "    # Generating the input values to the model\n",
    "    x1=input_data[x.columns].values[0:num_inputs]\n",
    "    \n",
    "    \n",
    "    # Loading the Function from pickle file\n",
    "    with open('final_model.pkl', 'rb') as fileReadStream:\n",
    "        PredictionModel=pickle.load(fileReadStream)\n",
    "        # Don't forget to close the filestream!\n",
    "        fileReadStream.close()\n",
    "    \n",
    "    # Genrating Predictions\n",
    "    Prediction=PredictionModel.predict(x1)\n",
    "    PredictionResult=pd.DataFrame(Prediction, columns=['HeartDisease'])\n",
    "    return(PredictionResult)"
   ]
  },
  {
   "cell_type": "code",
   "execution_count": 77,
   "id": "1a7ca3d8",
   "metadata": {},
   "outputs": [
    {
     "name": "stdout",
     "output_type": "stream",
     "text": [
      "        Age  Sex  RestingBP  Cholesterol  FastingBS  RestingECG     MaxHR  \\\n",
      "0  0.244898    1       0.70      0.47927          0         0.0  0.867559   \n",
      "1  0.183673    1       0.65      0.46932          0         0.5  0.404163   \n",
      "\n",
      "   ExerciseAngina   Oldpeak  ChestPainType_0  ChestPainType_1  \\\n",
      "0               0  0.295455                0                1   \n",
      "1               0  0.295455                0                1   \n",
      "\n",
      "   ChestPainType_2  ChestPainType_3  ST_Slope_0  ST_Slope_1  ST_Slope_2  \n",
      "0                0                0           0           0           1  \n",
      "1                0                0           0           0           1  \n"
     ]
    },
    {
     "name": "stderr",
     "output_type": "stream",
     "text": [
      "C:\\Users\\hp\\anaconda3\\lib\\site-packages\\sklearn\\base.py:450: UserWarning: X does not have valid feature names, but AdaBoostClassifier was fitted with feature names\n",
      "  warnings.warn(\n"
     ]
    },
    {
     "data": {
      "text/html": [
       "<div>\n",
       "<style scoped>\n",
       "    .dataframe tbody tr th:only-of-type {\n",
       "        vertical-align: middle;\n",
       "    }\n",
       "\n",
       "    .dataframe tbody tr th {\n",
       "        vertical-align: top;\n",
       "    }\n",
       "\n",
       "    .dataframe thead th {\n",
       "        text-align: right;\n",
       "    }\n",
       "</style>\n",
       "<table border=\"1\" class=\"dataframe\">\n",
       "  <thead>\n",
       "    <tr style=\"text-align: right;\">\n",
       "      <th></th>\n",
       "      <th>HeartDisease</th>\n",
       "    </tr>\n",
       "  </thead>\n",
       "  <tbody>\n",
       "    <tr>\n",
       "      <th>0</th>\n",
       "      <td>0</td>\n",
       "    </tr>\n",
       "    <tr>\n",
       "      <th>1</th>\n",
       "      <td>0</td>\n",
       "    </tr>\n",
       "  </tbody>\n",
       "</table>\n",
       "</div>"
      ],
      "text/plain": [
       "   HeartDisease\n",
       "0             0\n",
       "1             0"
      ]
     },
     "execution_count": 77,
     "metadata": {},
     "output_type": "execute_result"
    }
   ],
   "source": [
    "# Calling the function for HeartDisease predictions\n",
    "NewSampleData=pd.DataFrame(data=[[0.244898,1,0.70,0.479270,0,0.0,0.867559,0,0.295455,0,1,0,0,0,0,1],\n",
    "                                 [0.183673,1,0.65,0.469320,0,0.5,0.404163,0,0.295455,0,1,0,0,0,0,1]],\n",
    "                            columns=x.columns)\n",
    "print(NewSampleData)\n",
    "# Calling the Function for prediction\n",
    "function_predict_result(input_data= NewSampleData)"
   ]
  },
  {
   "cell_type": "code",
   "execution_count": 78,
   "id": "2cfec6a4",
   "metadata": {},
   "outputs": [
    {
     "data": {
      "text/plain": [
       "Index(['Age', 'Sex', 'RestingBP', 'Cholesterol', 'FastingBS', 'RestingECG',\n",
       "       'MaxHR', 'ExerciseAngina', 'Oldpeak', 'ChestPainType_0',\n",
       "       'ChestPainType_1', 'ChestPainType_2', 'ChestPainType_3', 'ST_Slope_0',\n",
       "       'ST_Slope_1', 'ST_Slope_2'],\n",
       "      dtype='object')"
      ]
     },
     "execution_count": 78,
     "metadata": {},
     "output_type": "execute_result"
    }
   ],
   "source": [
    "x.columns"
   ]
  },
  {
   "cell_type": "markdown",
   "id": "91f73f82",
   "metadata": {},
   "source": [
    "## Deployment as an API"
   ]
  },
  {
   "cell_type": "markdown",
   "id": "b15ab728",
   "metadata": {},
   "source": [
    "### Creating the model with few parameters"
   ]
  },
  {
   "cell_type": "code",
   "execution_count": 79,
   "id": "22ad597c",
   "metadata": {},
   "outputs": [],
   "source": [
    "#creating funtion that can take input and do prediction\n",
    "\n",
    "def prediction_from_api(Age, Sex, RestingBP, Cholesterol, FastingBS, RestingECG,\n",
    "                           MaxHR, ExerciseAngina, Oldpeak, ChestPainType_0,\n",
    "                           ChestPainType_1, ChestPainType_2, ChestPainType_3, ST_Slope_0,\n",
    "                           ST_Slope_1, ST_Slope_2):\n",
    "    input_data_frame=pd.DataFrame(data=[[Age, Sex, RestingBP, Cholesterol, FastingBS, RestingECG,\n",
    "                                            MaxHR, ExerciseAngina, Oldpeak, ChestPainType_0,\n",
    "                                            ChestPainType_1, ChestPainType_2, ChestPainType_3, ST_Slope_0,\n",
    "                                               ST_Slope_1, ST_Slope_2]],\n",
    "                                 columns=x.columns)\n",
    "    predictions=function_predict_result(input_data_frame)\n",
    "    \n",
    "    return(predictions.to_json())\n",
    "       \n",
    "\n",
    "        \n",
    "        "
   ]
  },
  {
   "cell_type": "markdown",
   "id": "ed0ab23b",
   "metadata": {},
   "source": [
    "### creating flask API"
   ]
  },
  {
   "cell_type": "code",
   "execution_count": 81,
   "id": "2dfaa7d8",
   "metadata": {},
   "outputs": [],
   "source": [
    "from flask import Flask,request,jsonify"
   ]
  },
  {
   "cell_type": "code",
   "execution_count": 86,
   "id": "b24ab097",
   "metadata": {},
   "outputs": [],
   "source": [
    "#top block\n",
    "app = Flask(__name__)\n",
    "\n",
    "#decoder\n",
    "@app.route('/get_heart_die_prediction', methods=['GET'])\n",
    "\n",
    "def get_heart_die_prediction():\n",
    "    try:\n",
    "        #getting parameter for API call\n",
    "        Age_value=float(request.args.get('Age'))\n",
    "        Sex_value=float(request.args.get('Sex'))\n",
    "        RestingBP_value=float(request.args.get('RestingBP'))\n",
    "        Cholesterol_value=float(request.args.get('Cholesterol'))\n",
    "        FastingBS_value=float(request.args.get('FastingBS'))\n",
    "        RestingECG_value=float(request.args.get('RestingECG'))\n",
    "        MaxHR_value=float(request.args.get('MaxHR'))\n",
    "        ExerciseAngina_value=float(request.args.get('ExerciseAngina'))\n",
    "        Oldpeak_value=float(request.args.get('Oldpeak'))\n",
    "        ChestPainType_0_value=float(request.args.get('ChestPainType_0'))\n",
    "        ChestPainType_1_value=float(request.args.get('ChestPainType_1'))\n",
    "        ChestPainType_2_value=float(request.args.get('ChestPainType_2'))\n",
    "        ChestPainType_3_value=float(request.args.get('ChestPainType_3'))\n",
    "        ST_Slope_0_value=float(request.args.get('ST_Slope_0'))\n",
    "        ST_Slope_1_value=float(request.args.get('ST_Slope_1'))\n",
    "        ST_Slope_2_value=float(request.args.get('ST_Slope_2'))\n",
    "        \n",
    "        prediction_api = prediction_from_api(Age=Age_value, \n",
    "                                             Sex=Sex_value, \n",
    "                                             RestingBP=RestingBP_value, \n",
    "                                             Cholesterol=Cholesterol_value, \n",
    "                                             FastingBS=FastingBS_value, \n",
    "                                             RestingECG=RestingECG_value,\n",
    "                                             MaxHR=MaxHR_value, \n",
    "                                             ExerciseAngina=ExerciseAngina_value,\n",
    "                                             Oldpeak=Oldpeak_value, \n",
    "                                             ChestPainType_0=ChestPainType_0_value,\n",
    "                                             ChestPainType_1=ChestPainType_1_value, \n",
    "                                             ChestPainType_2=ChestPainType_2_value, \n",
    "                                             ChestPainType_3=ChestPainType_3_value, \n",
    "                                             ST_Slope_0=ST_Slope_0_value,\n",
    "                                             ST_Slope_1=ST_Slope_1_value, \n",
    "                                             ST_Slope_2=ST_Slope_2_value)\n",
    "        return (prediction_api)\n",
    "    except Exception as e:\n",
    "        return ('something not right')"
   ]
  },
  {
   "cell_type": "markdown",
   "id": "25a5788d",
   "metadata": {},
   "source": [
    "### starting API engine"
   ]
  },
  {
   "cell_type": "code",
   "execution_count": 88,
   "id": "fe73f5f9",
   "metadata": {},
   "outputs": [
    {
     "name": "stdout",
     "output_type": "stream",
     "text": [
      " * Serving Flask app \"__main__\" (lazy loading)\n",
      " * Environment: production\n",
      "   WARNING: This is a development server. Do not use it in a production deployment.\n",
      "   Use a production WSGI server instead.\n",
      " * Debug mode: off\n"
     ]
    },
    {
     "name": "stderr",
     "output_type": "stream",
     "text": [
      " * Running on http://127.0.0.1:8080/ (Press CTRL+C to quit)\n"
     ]
    }
   ],
   "source": [
    "if __name__=='__main__':\n",
    "    \n",
    "    #hoisting API in local host\n",
    "    app.run(port=8080)"
   ]
  },
  {
   "cell_type": "code",
   "execution_count": null,
   "id": "6fb79cb6",
   "metadata": {},
   "outputs": [],
   "source": []
  },
  {
   "cell_type": "code",
   "execution_count": null,
   "id": "6a89c465",
   "metadata": {},
   "outputs": [],
   "source": []
  },
  {
   "cell_type": "code",
   "execution_count": null,
   "id": "36e16f1d",
   "metadata": {},
   "outputs": [],
   "source": []
  },
  {
   "cell_type": "code",
   "execution_count": null,
   "id": "682beabc",
   "metadata": {},
   "outputs": [],
   "source": []
  },
  {
   "cell_type": "code",
   "execution_count": null,
   "id": "9c6e6043",
   "metadata": {},
   "outputs": [],
   "source": []
  },
  {
   "cell_type": "code",
   "execution_count": null,
   "id": "2d311db8",
   "metadata": {},
   "outputs": [],
   "source": []
  },
  {
   "cell_type": "code",
   "execution_count": null,
   "id": "4da2ae1b",
   "metadata": {},
   "outputs": [],
   "source": []
  },
  {
   "cell_type": "code",
   "execution_count": null,
   "id": "418078e3",
   "metadata": {},
   "outputs": [],
   "source": []
  },
  {
   "cell_type": "code",
   "execution_count": null,
   "id": "443cb446",
   "metadata": {},
   "outputs": [],
   "source": []
  },
  {
   "cell_type": "code",
   "execution_count": null,
   "id": "ab100d4e",
   "metadata": {},
   "outputs": [],
   "source": []
  }
 ],
 "metadata": {
  "kernelspec": {
   "display_name": "Python 3",
   "language": "python",
   "name": "python3"
  },
  "language_info": {
   "codemirror_mode": {
    "name": "ipython",
    "version": 3
   },
   "file_extension": ".py",
   "mimetype": "text/x-python",
   "name": "python",
   "nbconvert_exporter": "python",
   "pygments_lexer": "ipython3",
   "version": "3.8.8"
  }
 },
 "nbformat": 4,
 "nbformat_minor": 5
}
